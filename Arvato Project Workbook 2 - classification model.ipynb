{
 "cells": [
  {
   "cell_type": "markdown",
   "metadata": {},
   "source": [
    "# Capstone Project - Report for Arvato Financial Services\n",
    "## Part 2: Supervised Learning Model\n",
    "\n",
    "Now that you've found which parts of the population are more likely to be customers of the mail-order company, it's time to build a prediction model. Each of the rows in the \"MAILOUT\" data files represents an individual that was targeted for a mailout campaign. Ideally, we should be able to use the demographic information from each individual to decide whether or not it will be worth it to include that person in the campaign.\n",
    "\n",
    "The \"MAILOUT\" data has been split into two approximately equal parts, each with almost 43 000 data rows. In this part, you can verify your model with the \"TRAIN\" partition, which includes a column, \"RESPONSE\", that states whether or not a person became a customer of the company following the campaign. In the next part, you'll need to create predictions on the \"TEST\" partition, where the \"RESPONSE\" column has been withheld."
   ]
  },
  {
   "cell_type": "code",
   "execution_count": 9,
   "metadata": {},
   "outputs": [],
   "source": [
    "# Importing libraries\n",
    "import numpy as np\n",
    "import pandas as pd\n",
    "import matplotlib.pyplot as plt\n",
    "import seaborn as sns\n",
    "%matplotlib inline\n",
    "\n",
    "from sklearn.metrics import classification_report\n",
    "from sklearn.model_selection import GridSearchCV, cross_val_score, StratifiedKFold\n",
    "from sklearn.metrics import accuracy_score, roc_auc_score, confusion_matrix, classification_report\n",
    "from sklearn.model_selection import RepeatedStratifiedKFold\n",
    "\n",
    "from sklearn.ensemble import GradientBoostingClassifier\n",
    "from sklearn.ensemble import RandomForestClassifier\n",
    "from sklearn.tree import DecisionTreeClassifier\n",
    "from sklearn.ensemble import AdaBoostClassifier"
   ]
  },
  {
   "cell_type": "code",
   "execution_count": 10,
   "metadata": {},
   "outputs": [],
   "source": [
    "# Importing train and test data\n",
    "mailout_train = pd.read_csv('mailout_train_clean.csv')\n",
    "mailout_test = pd.read_csv('mailout_test_clean.csv')"
   ]
  },
  {
   "cell_type": "code",
   "execution_count": 11,
   "metadata": {},
   "outputs": [
    {
     "name": "stdout",
     "output_type": "stream",
     "text": [
      "FREQUENCY BY RESPONSE - TRAIN\n",
      "              n       %\n",
      "Response               \n",
      "0         42430  0.9876\n",
      "1           532  0.0124\n"
     ]
    }
   ],
   "source": [
    "# Response distribution on training set\n",
    "print('Frequency by response - train'.upper())\n",
    "freq = pd.concat([mailout_train['RESPONSE'].value_counts(), round(mailout_train['RESPONSE'].value_counts(normalize=True),4)], axis=1)\n",
    "freq.index.name = 'Response'\n",
    "freq.columns = ['n', '%']\n",
    "print(freq)"
   ]
  },
  {
   "cell_type": "code",
   "execution_count": 12,
   "metadata": {},
   "outputs": [
    {
     "data": {
      "text/plain": [
       "0"
      ]
     },
     "execution_count": 12,
     "metadata": {},
     "output_type": "execute_result"
    }
   ],
   "source": [
    "# Checking for missing values of 'RESPONSE'\n",
    "mailout_train['RESPONSE'].isnull().sum()"
   ]
  },
  {
   "cell_type": "code",
   "execution_count": 13,
   "metadata": {},
   "outputs": [
    {
     "data": {
      "text/plain": [
       "(42962, 403)"
      ]
     },
     "execution_count": 13,
     "metadata": {},
     "output_type": "execute_result"
    }
   ],
   "source": [
    "# Defining predictors and target variables\n",
    "features = list(mailout_train.drop(columns='RESPONSE'))\n",
    "X_train = mailout_train[features]\n",
    "y_train = np.array(mailout_train['RESPONSE'])\n",
    "X_train.shape"
   ]
  },
  {
   "cell_type": "markdown",
   "metadata": {},
   "source": [
    "### Adaboost"
   ]
  },
  {
   "cell_type": "code",
   "execution_count": 14,
   "metadata": {},
   "outputs": [
    {
     "data": {
      "text/plain": [
       "AdaBoostClassifier(algorithm='SAMME.R',\n",
       "                   base_estimator=DecisionTreeClassifier(ccp_alpha=0.0,\n",
       "                                                         class_weight=None,\n",
       "                                                         criterion='gini',\n",
       "                                                         max_depth=5,\n",
       "                                                         max_features=None,\n",
       "                                                         max_leaf_nodes=None,\n",
       "                                                         min_impurity_decrease=0.0,\n",
       "                                                         min_impurity_split=None,\n",
       "                                                         min_samples_leaf=1,\n",
       "                                                         min_samples_split=2,\n",
       "                                                         min_weight_fraction_leaf=0.0,\n",
       "                                                         presort='deprecated',\n",
       "                                                         random_state=82,\n",
       "                                                         splitter='best'),\n",
       "                   learning_rate=1.0, n_estimators=50, random_state=82)"
      ]
     },
     "execution_count": 14,
     "metadata": {},
     "output_type": "execute_result"
    }
   ],
   "source": [
    "# Model fitting\n",
    "dt = DecisionTreeClassifier(max_depth=5, random_state=82)\n",
    "ada = AdaBoostClassifier(base_estimator=dt, random_state=82)\n",
    "ada.fit(X_train, y_train)"
   ]
  },
  {
   "cell_type": "code",
   "execution_count": 15,
   "metadata": {},
   "outputs": [
    {
     "name": "stdout",
     "output_type": "stream",
     "text": [
      "------------------ TRAIN SET PERFORMANCE ------------------ \n",
      "\n",
      "Confusion matrix:\n",
      " [[42430     0]\n",
      " [   65   467]] \n",
      "\n",
      "Classification report:\n",
      "               precision    recall  f1-score   support\n",
      "\n",
      "           0       1.00      1.00      1.00     42430\n",
      "           1       1.00      0.88      0.93       532\n",
      "\n",
      "    accuracy                           1.00     42962\n",
      "   macro avg       1.00      0.94      0.97     42962\n",
      "weighted avg       1.00      1.00      1.00     42962\n",
      "\n",
      "Train set accuracy: 1.00\n",
      "AUROC: 0.99\n"
     ]
    }
   ],
   "source": [
    "# Model evaluation - training set\n",
    "y_pred_train = ada.predict(X_train)\n",
    "y_pred_proba = ada.predict_proba(X_train)[:,1]\n",
    "\n",
    "print('------------------ TRAIN SET PERFORMANCE ------------------ \\n')\n",
    "print('Confusion matrix:\\n', confusion_matrix(y_train, y_pred_train), '\\n')\n",
    "print('Classification report:\\n', classification_report(y_train, y_pred_train))\n",
    "print(\"Train set accuracy: {:.2f}\".format(accuracy_score(y_train, y_pred_train)))\n",
    "print(\"AUROC: {:.2f}\".format(roc_auc_score(y_train, y_pred_proba)))"
   ]
  },
  {
   "cell_type": "code",
   "execution_count": 16,
   "metadata": {},
   "outputs": [
    {
     "name": "stdout",
     "output_type": "stream",
     "text": [
      "Fitting 3 folds for each of 9 candidates, totalling 27 fits\n"
     ]
    },
    {
     "name": "stderr",
     "output_type": "stream",
     "text": [
      "[Parallel(n_jobs=-1)]: Using backend LokyBackend with 4 concurrent workers.\n",
      "[Parallel(n_jobs=-1)]: Done  27 out of  27 | elapsed: 34.7min finished\n"
     ]
    }
   ],
   "source": [
    "# Hyperparameters tuning\n",
    "params_ada = {'n_estimators': [50, 100, 150], 'learning_rate':[0.001, 0.01, 0.05]}\n",
    "grid_ada = GridSearchCV(estimator=ada, param_grid=params_ada, scoring='roc_auc', cv=3, verbose=1, n_jobs=-1)\n",
    "grid_result_ada = grid_ada.fit(X_train, y_train)"
   ]
  },
  {
   "cell_type": "code",
   "execution_count": 17,
   "metadata": {},
   "outputs": [
    {
     "name": "stdout",
     "output_type": "stream",
     "text": [
      "Best: 0.762220 using {'learning_rate': 0.01, 'n_estimators': 100}\n",
      "0.757446 (0.016519) with: {'learning_rate': 0.001, 'n_estimators': 50}\n",
      "0.760334 (0.015715) with: {'learning_rate': 0.001, 'n_estimators': 100}\n",
      "0.760176 (0.018091) with: {'learning_rate': 0.001, 'n_estimators': 150}\n",
      "0.758013 (0.019642) with: {'learning_rate': 0.01, 'n_estimators': 50}\n",
      "0.762220 (0.018279) with: {'learning_rate': 0.01, 'n_estimators': 100}\n",
      "0.743059 (0.005671) with: {'learning_rate': 0.01, 'n_estimators': 150}\n",
      "0.697357 (0.025895) with: {'learning_rate': 0.05, 'n_estimators': 50}\n",
      "0.617979 (0.028555) with: {'learning_rate': 0.05, 'n_estimators': 100}\n",
      "0.587815 (0.029340) with: {'learning_rate': 0.05, 'n_estimators': 150}\n"
     ]
    }
   ],
   "source": [
    "# Best score and parameters\n",
    "print(\"Best: %f using %s\" % (grid_result_ada.best_score_, grid_result_ada.best_params_))\n",
    "\n",
    "# Grid search detailed results\n",
    "means = grid_result_ada.cv_results_['mean_test_score']\n",
    "stds = grid_result_ada.cv_results_['std_test_score']\n",
    "params = grid_result_ada.cv_results_['params']\n",
    "for mean, stdev, param in zip(means, stds, params):\n",
    "    print(\"%f (%f) with: %r\" % (mean, stdev, param))"
   ]
  },
  {
   "cell_type": "markdown",
   "metadata": {},
   "source": [
    "### Random forest"
   ]
  },
  {
   "cell_type": "code",
   "execution_count": 18,
   "metadata": {},
   "outputs": [
    {
     "data": {
      "text/plain": [
       "RandomForestClassifier(bootstrap=True, ccp_alpha=0.0, class_weight=None,\n",
       "                       criterion='gini', max_depth=None, max_features='auto',\n",
       "                       max_leaf_nodes=None, max_samples=None,\n",
       "                       min_impurity_decrease=0.0, min_impurity_split=None,\n",
       "                       min_samples_leaf=1, min_samples_split=2,\n",
       "                       min_weight_fraction_leaf=0.0, n_estimators=100,\n",
       "                       n_jobs=None, oob_score=False, random_state=82, verbose=0,\n",
       "                       warm_start=False)"
      ]
     },
     "execution_count": 18,
     "metadata": {},
     "output_type": "execute_result"
    }
   ],
   "source": [
    "# Model fitting\n",
    "rfc = RandomForestClassifier(random_state=82)\n",
    "rfc.fit(X_train, y_train)"
   ]
  },
  {
   "cell_type": "code",
   "execution_count": 19,
   "metadata": {},
   "outputs": [
    {
     "name": "stdout",
     "output_type": "stream",
     "text": [
      "[[42430     0]\n",
      " [   65   467]]\n",
      "              precision    recall  f1-score   support\n",
      "\n",
      "           0       1.00      1.00      1.00     42430\n",
      "           1       1.00      0.88      0.93       532\n",
      "\n",
      "    accuracy                           1.00     42962\n",
      "   macro avg       1.00      0.94      0.97     42962\n",
      "weighted avg       1.00      1.00      1.00     42962\n",
      "\n"
     ]
    }
   ],
   "source": [
    "# Model evaluation - training set\n",
    "y_pred_train = rfc.predict(X_train)\n",
    "print(confusion_matrix(y_train, y_pred_train))\n",
    "print(classification_report(y_train, y_pred_train))"
   ]
  },
  {
   "cell_type": "code",
   "execution_count": 20,
   "metadata": {},
   "outputs": [
    {
     "name": "stdout",
     "output_type": "stream",
     "text": [
      "Fitting 3 folds for each of 9 candidates, totalling 27 fits\n"
     ]
    },
    {
     "name": "stderr",
     "output_type": "stream",
     "text": [
      "[Parallel(n_jobs=-1)]: Using backend LokyBackend with 4 concurrent workers.\n",
      "[Parallel(n_jobs=-1)]: Done  27 out of  27 | elapsed:  7.8min finished\n"
     ]
    }
   ],
   "source": [
    "# Hyperparameters tuning\n",
    "params_rfc = {'n_estimators': [300, 400, 500], 'min_samples_leaf':[50, 100, 200]}\n",
    "grid_rfc = GridSearchCV(estimator=rfc, param_grid=params_rfc, scoring='roc_auc', cv=3, verbose=1, n_jobs=-1)\n",
    "grid_result_rfc = grid_rfc.fit(X_train, y_train)"
   ]
  },
  {
   "cell_type": "code",
   "execution_count": 21,
   "metadata": {},
   "outputs": [
    {
     "name": "stdout",
     "output_type": "stream",
     "text": [
      "Best: 0.737471 using {'min_samples_leaf': 200, 'n_estimators': 300}\n",
      "0.724264 (0.008137) with: {'min_samples_leaf': 50, 'n_estimators': 300}\n",
      "0.724590 (0.009645) with: {'min_samples_leaf': 50, 'n_estimators': 400}\n",
      "0.726355 (0.010606) with: {'min_samples_leaf': 50, 'n_estimators': 500}\n",
      "0.735343 (0.012813) with: {'min_samples_leaf': 100, 'n_estimators': 300}\n",
      "0.733663 (0.013174) with: {'min_samples_leaf': 100, 'n_estimators': 400}\n",
      "0.733129 (0.013624) with: {'min_samples_leaf': 100, 'n_estimators': 500}\n",
      "0.737471 (0.015930) with: {'min_samples_leaf': 200, 'n_estimators': 300}\n",
      "0.736468 (0.014071) with: {'min_samples_leaf': 200, 'n_estimators': 400}\n",
      "0.735977 (0.013631) with: {'min_samples_leaf': 200, 'n_estimators': 500}\n"
     ]
    }
   ],
   "source": [
    "# Best score and parameters\n",
    "print(\"Best: %f using %s\" % (grid_result_rfc.best_score_, grid_result_rfc.best_params_))\n",
    "\n",
    "# Grid search detailed results\n",
    "means = grid_result_rfc.cv_results_['mean_test_score']\n",
    "stds = grid_result_rfc.cv_results_['std_test_score']\n",
    "params = grid_result_rfc.cv_results_['params']\n",
    "for mean, stdev, param in zip(means, stds, params):\n",
    "    print(\"%f (%f) with: %r\" % (mean, stdev, param))"
   ]
  },
  {
   "cell_type": "code",
   "execution_count": 22,
   "metadata": {},
   "outputs": [
    {
     "data": {
      "text/plain": [
       "GradientBoostingClassifier(ccp_alpha=0.0, criterion='friedman_mse', init=None,\n",
       "                           learning_rate=0.1, loss='deviance', max_depth=3,\n",
       "                           max_features='sqrt', max_leaf_nodes=None,\n",
       "                           min_impurity_decrease=0.0, min_impurity_split=None,\n",
       "                           min_samples_leaf=1, min_samples_split=2,\n",
       "                           min_weight_fraction_leaf=0.0, n_estimators=100,\n",
       "                           n_iter_no_change=None, presort='deprecated',\n",
       "                           random_state=82, subsample=0.8, tol=0.0001,\n",
       "                           validation_fraction=0.1, verbose=0,\n",
       "                           warm_start=False)"
      ]
     },
     "execution_count": 22,
     "metadata": {},
     "output_type": "execute_result"
    }
   ],
   "source": [
    "# Model fitting\n",
    "gbc = GradientBoostingClassifier(subsample=0.8, max_features='sqrt', random_state=82)\n",
    "gbc.fit(X_train, y_train)"
   ]
  },
  {
   "cell_type": "code",
   "execution_count": 23,
   "metadata": {},
   "outputs": [
    {
     "name": "stdout",
     "output_type": "stream",
     "text": [
      "[[42427     3]\n",
      " [  524     8]]\n",
      "              precision    recall  f1-score   support\n",
      "\n",
      "           0       0.99      1.00      0.99     42430\n",
      "           1       0.73      0.02      0.03       532\n",
      "\n",
      "    accuracy                           0.99     42962\n",
      "   macro avg       0.86      0.51      0.51     42962\n",
      "weighted avg       0.98      0.99      0.98     42962\n",
      "\n"
     ]
    }
   ],
   "source": [
    "# Model evaluation - training set\n",
    "y_pred_train = gbc.predict(X_train)\n",
    "print(confusion_matrix(y_train, y_pred_train))\n",
    "print(classification_report(y_train, y_pred_train))"
   ]
  },
  {
   "cell_type": "code",
   "execution_count": 24,
   "metadata": {},
   "outputs": [
    {
     "name": "stdout",
     "output_type": "stream",
     "text": [
      "Fitting 3 folds for each of 27 candidates, totalling 81 fits\n"
     ]
    },
    {
     "name": "stderr",
     "output_type": "stream",
     "text": [
      "[Parallel(n_jobs=-1)]: Using backend LokyBackend with 4 concurrent workers.\n",
      "[Parallel(n_jobs=-1)]: Done  42 tasks      | elapsed:  7.3min\n",
      "[Parallel(n_jobs=-1)]: Done  81 out of  81 | elapsed: 15.0min finished\n"
     ]
    }
   ],
   "source": [
    "# Hyperparameters tuning\n",
    "params_gbc = {'max_depth': [4,6,8], 'n_estimators': [150, 200, 250], 'learning_rate':[0.001, 0.01, 0.1]}\n",
    "grid_gbc = GridSearchCV(estimator=gbc, param_grid=params_gbc, scoring='roc_auc', cv=3, verbose=1, n_jobs=-1)\n",
    "grid_result_gbc = grid_gbc.fit(X_train, y_train)"
   ]
  },
  {
   "cell_type": "code",
   "execution_count": 25,
   "metadata": {},
   "outputs": [
    {
     "name": "stdout",
     "output_type": "stream",
     "text": [
      "Best: 0.743404 using {'learning_rate': 0.01, 'max_depth': 4, 'n_estimators': 200}\n",
      "0.731640 (0.011121) with: {'learning_rate': 0.001, 'max_depth': 4, 'n_estimators': 150}\n",
      "0.734045 (0.011172) with: {'learning_rate': 0.001, 'max_depth': 4, 'n_estimators': 200}\n",
      "0.730051 (0.011116) with: {'learning_rate': 0.001, 'max_depth': 4, 'n_estimators': 250}\n",
      "0.718761 (0.019662) with: {'learning_rate': 0.001, 'max_depth': 6, 'n_estimators': 150}\n",
      "0.723875 (0.019710) with: {'learning_rate': 0.001, 'max_depth': 6, 'n_estimators': 200}\n",
      "0.724785 (0.018888) with: {'learning_rate': 0.001, 'max_depth': 6, 'n_estimators': 250}\n",
      "0.722383 (0.014058) with: {'learning_rate': 0.001, 'max_depth': 8, 'n_estimators': 150}\n",
      "0.729396 (0.015932) with: {'learning_rate': 0.001, 'max_depth': 8, 'n_estimators': 200}\n",
      "0.734828 (0.017810) with: {'learning_rate': 0.001, 'max_depth': 8, 'n_estimators': 250}\n",
      "0.737169 (0.016487) with: {'learning_rate': 0.01, 'max_depth': 4, 'n_estimators': 150}\n",
      "0.743404 (0.015717) with: {'learning_rate': 0.01, 'max_depth': 4, 'n_estimators': 200}\n",
      "0.742447 (0.016696) with: {'learning_rate': 0.01, 'max_depth': 4, 'n_estimators': 250}\n",
      "0.735803 (0.021451) with: {'learning_rate': 0.01, 'max_depth': 6, 'n_estimators': 150}\n",
      "0.741290 (0.021037) with: {'learning_rate': 0.01, 'max_depth': 6, 'n_estimators': 200}\n",
      "0.741381 (0.022675) with: {'learning_rate': 0.01, 'max_depth': 6, 'n_estimators': 250}\n",
      "0.731541 (0.022163) with: {'learning_rate': 0.01, 'max_depth': 8, 'n_estimators': 150}\n",
      "0.733815 (0.023399) with: {'learning_rate': 0.01, 'max_depth': 8, 'n_estimators': 200}\n",
      "0.728980 (0.024440) with: {'learning_rate': 0.01, 'max_depth': 8, 'n_estimators': 250}\n",
      "0.717165 (0.026737) with: {'learning_rate': 0.1, 'max_depth': 4, 'n_estimators': 150}\n",
      "0.708414 (0.027009) with: {'learning_rate': 0.1, 'max_depth': 4, 'n_estimators': 200}\n",
      "0.706478 (0.026600) with: {'learning_rate': 0.1, 'max_depth': 4, 'n_estimators': 250}\n",
      "0.680103 (0.021943) with: {'learning_rate': 0.1, 'max_depth': 6, 'n_estimators': 150}\n",
      "0.680446 (0.017460) with: {'learning_rate': 0.1, 'max_depth': 6, 'n_estimators': 200}\n",
      "0.676000 (0.016760) with: {'learning_rate': 0.1, 'max_depth': 6, 'n_estimators': 250}\n",
      "0.670644 (0.025456) with: {'learning_rate': 0.1, 'max_depth': 8, 'n_estimators': 150}\n",
      "0.664766 (0.025994) with: {'learning_rate': 0.1, 'max_depth': 8, 'n_estimators': 200}\n",
      "0.663536 (0.025100) with: {'learning_rate': 0.1, 'max_depth': 8, 'n_estimators': 250}\n"
     ]
    }
   ],
   "source": [
    "# Best score and parameters\n",
    "print(\"Best: %f using %s\" % (grid_result_gbc.best_score_, grid_result_gbc.best_params_))\n",
    "\n",
    "# Grid search detailed results\n",
    "means = grid_result_gbc.cv_results_['mean_test_score']\n",
    "stds = grid_result_gbc.cv_results_['std_test_score']\n",
    "params = grid_result_gbc.cv_results_['params']\n",
    "for mean, stdev, param in zip(means, stds, params):\n",
    "    print(\"%f (%f) with: %r\" % (mean, stdev, param))"
   ]
  },
  {
   "cell_type": "code",
   "execution_count": 26,
   "metadata": {},
   "outputs": [
    {
     "data": {
      "text/plain": [
       "GradientBoostingClassifier(ccp_alpha=0.0, criterion='friedman_mse', init=None,\n",
       "                           learning_rate=0.1, loss='deviance', max_depth=4,\n",
       "                           max_features=0.75, max_leaf_nodes=None,\n",
       "                           min_impurity_decrease=0.0, min_impurity_split=None,\n",
       "                           min_samples_leaf=1, min_samples_split=2,\n",
       "                           min_weight_fraction_leaf=0.0, n_estimators=200,\n",
       "                           n_iter_no_change=None, presort='deprecated',\n",
       "                           random_state=82, subsample=0.9, tol=0.0001,\n",
       "                           validation_fraction=0.1, verbose=0,\n",
       "                           warm_start=False)"
      ]
     },
     "execution_count": 26,
     "metadata": {},
     "output_type": "execute_result"
    }
   ],
   "source": [
    "# Model fitting\n",
    "sgbc = GradientBoostingClassifier(max_depth=4, subsample=0.9, max_features=0.75, n_estimators=200, random_state=82)\n",
    "sgbc.fit(X_train, y_train)"
   ]
  },
  {
   "cell_type": "code",
   "execution_count": 27,
   "metadata": {},
   "outputs": [
    {
     "name": "stdout",
     "output_type": "stream",
     "text": [
      "[[42429     1]\n",
      " [  328   204]]\n",
      "              precision    recall  f1-score   support\n",
      "\n",
      "           0       0.99      1.00      1.00     42430\n",
      "           1       1.00      0.38      0.55       532\n",
      "\n",
      "    accuracy                           0.99     42962\n",
      "   macro avg       0.99      0.69      0.77     42962\n",
      "weighted avg       0.99      0.99      0.99     42962\n",
      "\n"
     ]
    }
   ],
   "source": [
    "# Model evaluation - training set\n",
    "y_pred_train = sgbc.predict(X_train)\n",
    "print(confusion_matrix(y_train, y_pred_train))\n",
    "print(classification_report(y_train, y_pred_train))"
   ]
  },
  {
   "cell_type": "code",
   "execution_count": 29,
   "metadata": {},
   "outputs": [
    {
     "name": "stdout",
     "output_type": "stream",
     "text": [
      "Fitting 3 folds for each of 16 candidates, totalling 48 fits\n"
     ]
    },
    {
     "name": "stderr",
     "output_type": "stream",
     "text": [
      "[Parallel(n_jobs=-1)]: Using backend LokyBackend with 4 concurrent workers.\n",
      "[Parallel(n_jobs=-1)]: Done  48 out of  48 | elapsed: 41.9min finished\n"
     ]
    }
   ],
   "source": [
    "# Hyperparameters tuning\n",
    "params_sgbc = {'max_depth': [4,5], 'n_estimators': [100, 150], 'learning_rate':[0.0001, 0.001], 'subsample':[0.7, 0.75]}\n",
    "#params_sgbc = {'max_depth': [2,4], 'n_estimators': [150, 250], 'learning_rate':[0.001, 0.1], 'subsample':[0.7, 0.85]}\n",
    "#Best: 0.766198 using {'learning_rate': 0.001, 'max_depth': 4, 'n_estimators': 150, 'subsample': 0.7}\n",
    "grid_sgbc = GridSearchCV(estimator=sgbc, param_grid=params_sgbc, scoring='roc_auc', cv=3, verbose=1, n_jobs=-1)\n",
    "grid_result_sgbc = grid_sgbc.fit(X_train, y_train)"
   ]
  },
  {
   "cell_type": "code",
   "execution_count": 30,
   "metadata": {},
   "outputs": [
    {
     "name": "stdout",
     "output_type": "stream",
     "text": [
      "Best: 0.766198 using {'learning_rate': 0.001, 'max_depth': 4, 'n_estimators': 150, 'subsample': 0.7}\n",
      "0.763563 (0.015829) with: {'learning_rate': 0.0001, 'max_depth': 4, 'n_estimators': 100, 'subsample': 0.7}\n",
      "0.761722 (0.016745) with: {'learning_rate': 0.0001, 'max_depth': 4, 'n_estimators': 100, 'subsample': 0.75}\n",
      "0.764019 (0.016899) with: {'learning_rate': 0.0001, 'max_depth': 4, 'n_estimators': 150, 'subsample': 0.7}\n",
      "0.763152 (0.017638) with: {'learning_rate': 0.0001, 'max_depth': 4, 'n_estimators': 150, 'subsample': 0.75}\n",
      "0.756593 (0.013968) with: {'learning_rate': 0.0001, 'max_depth': 5, 'n_estimators': 100, 'subsample': 0.7}\n",
      "0.760479 (0.016287) with: {'learning_rate': 0.0001, 'max_depth': 5, 'n_estimators': 100, 'subsample': 0.75}\n",
      "0.758111 (0.014762) with: {'learning_rate': 0.0001, 'max_depth': 5, 'n_estimators': 150, 'subsample': 0.7}\n",
      "0.761932 (0.015626) with: {'learning_rate': 0.0001, 'max_depth': 5, 'n_estimators': 150, 'subsample': 0.75}\n",
      "0.765468 (0.015668) with: {'learning_rate': 0.001, 'max_depth': 4, 'n_estimators': 100, 'subsample': 0.7}\n",
      "0.761811 (0.017602) with: {'learning_rate': 0.001, 'max_depth': 4, 'n_estimators': 100, 'subsample': 0.75}\n",
      "0.766198 (0.017017) with: {'learning_rate': 0.001, 'max_depth': 4, 'n_estimators': 150, 'subsample': 0.7}\n",
      "0.763588 (0.017548) with: {'learning_rate': 0.001, 'max_depth': 4, 'n_estimators': 150, 'subsample': 0.75}\n",
      "0.758549 (0.014019) with: {'learning_rate': 0.001, 'max_depth': 5, 'n_estimators': 100, 'subsample': 0.7}\n",
      "0.760594 (0.015055) with: {'learning_rate': 0.001, 'max_depth': 5, 'n_estimators': 100, 'subsample': 0.75}\n",
      "0.760960 (0.015186) with: {'learning_rate': 0.001, 'max_depth': 5, 'n_estimators': 150, 'subsample': 0.7}\n",
      "0.762804 (0.014965) with: {'learning_rate': 0.001, 'max_depth': 5, 'n_estimators': 150, 'subsample': 0.75}\n"
     ]
    }
   ],
   "source": [
    "# Best score and parameters\n",
    "print(\"Best: %f using %s\" % (grid_result_sgbc.best_score_, grid_result_sgbc.best_params_))\n",
    "\n",
    "# Grid search detailed results\n",
    "means = grid_result_sgbc.cv_results_['mean_test_score']\n",
    "stds = grid_result_sgbc.cv_results_['std_test_score']\n",
    "params = grid_result_sgbc.cv_results_['params']\n",
    "for mean, stdev, param in zip(means, stds, params):\n",
    "    print(\"%f (%f) with: %r\" % (mean, stdev, param))"
   ]
  },
  {
   "cell_type": "code",
   "execution_count": 31,
   "metadata": {},
   "outputs": [
    {
     "data": {
      "text/plain": [
       "GradientBoostingClassifier(ccp_alpha=0.0, criterion='friedman_mse', init=None,\n",
       "                           learning_rate=0.001, loss='deviance', max_depth=4,\n",
       "                           max_features=0.75, max_leaf_nodes=None,\n",
       "                           min_impurity_decrease=0.0, min_impurity_split=None,\n",
       "                           min_samples_leaf=1, min_samples_split=2,\n",
       "                           min_weight_fraction_leaf=0.0, n_estimators=150,\n",
       "                           n_iter_no_change=None, presort='deprecated',\n",
       "                           random_state=82, subsample=0.7, tol=0.0001,\n",
       "                           validation_fraction=0.1, verbose=0,\n",
       "                           warm_start=False)"
      ]
     },
     "execution_count": 31,
     "metadata": {},
     "output_type": "execute_result"
    }
   ],
   "source": [
    "grid_result_sgbc.best_estimator_"
   ]
  },
  {
   "cell_type": "markdown",
   "metadata": {},
   "source": [
    "### Best model - feature importance"
   ]
  },
  {
   "cell_type": "code",
   "execution_count": 32,
   "metadata": {},
   "outputs": [
    {
     "data": {
      "text/plain": [
       "GradientBoostingClassifier(ccp_alpha=0.0, criterion='friedman_mse', init=None,\n",
       "                           learning_rate=0.001, loss='deviance', max_depth=4,\n",
       "                           max_features=0.75, max_leaf_nodes=None,\n",
       "                           min_impurity_decrease=0.0, min_impurity_split=None,\n",
       "                           min_samples_leaf=1, min_samples_split=2,\n",
       "                           min_weight_fraction_leaf=0.0, n_estimators=150,\n",
       "                           n_iter_no_change=None, presort='deprecated',\n",
       "                           random_state=82, subsample=0.7, tol=0.0001,\n",
       "                           validation_fraction=0.1, verbose=0,\n",
       "                           warm_start=False)"
      ]
     },
     "execution_count": 32,
     "metadata": {},
     "output_type": "execute_result"
    }
   ],
   "source": [
    "# Model fitting - SGBC\n",
    "sgbc = GradientBoostingClassifier(ccp_alpha=0.0, criterion='friedman_mse', init=None,\n",
    "                           learning_rate=0.001, loss='deviance', max_depth=4,\n",
    "                           max_features=0.75, max_leaf_nodes=None,\n",
    "                           min_impurity_decrease=0.0, min_impurity_split=None,\n",
    "                           min_samples_leaf=1, min_samples_split=2,\n",
    "                           min_weight_fraction_leaf=0.0, n_estimators=150,\n",
    "                           n_iter_no_change=None, presort='deprecated',\n",
    "                           random_state=82, subsample=0.7, tol=0.0001,\n",
    "                           validation_fraction=0.1, verbose=0,\n",
    "                           warm_start=False)\n",
    "sgbc.fit(X_train, y_train)"
   ]
  },
  {
   "cell_type": "code",
   "execution_count": 33,
   "metadata": {},
   "outputs": [
    {
     "name": "stdout",
     "output_type": "stream",
     "text": [
      "Folds: 3\n",
      "CV AUROC: [0.77841416 0.77183377 0.74687564]\n",
      "Overall AUROC: 0.77\n"
     ]
    }
   ],
   "source": [
    "cv_auroc = cross_val_score(sgbc, X_train, y_train, cv=StratifiedKFold(n_splits=3, shuffle=True), scoring='roc_auc', n_jobs=-1)\n",
    "auroc = cv_auroc.mean()\n",
    "\n",
    "print('Folds:', len(cv_auroc))\n",
    "print('CV AUROC:', cv_auroc)\n",
    "print('Overall AUROC: {:.2f}'.format(auroc))"
   ]
  },
  {
   "cell_type": "code",
   "execution_count": 34,
   "metadata": {},
   "outputs": [
    {
     "name": "stdout",
     "output_type": "stream",
     "text": [
      "[[42430     0]\n",
      " [  532     0]]\n",
      "              precision    recall  f1-score   support\n",
      "\n",
      "           0       0.99      1.00      0.99     42430\n",
      "           1       0.00      0.00      0.00       532\n",
      "\n",
      "    accuracy                           0.99     42962\n",
      "   macro avg       0.49      0.50      0.50     42962\n",
      "weighted avg       0.98      0.99      0.98     42962\n",
      "\n"
     ]
    },
    {
     "name": "stderr",
     "output_type": "stream",
     "text": [
      "C:\\Users\\Carlos Alberto\\Anaconda3\\lib\\site-packages\\sklearn\\metrics\\_classification.py:1272: UndefinedMetricWarning: Precision and F-score are ill-defined and being set to 0.0 in labels with no predicted samples. Use `zero_division` parameter to control this behavior.\n",
      "  _warn_prf(average, modifier, msg_start, len(result))\n"
     ]
    }
   ],
   "source": [
    "# Model evaluation - training set\n",
    "y_pred_train = sgbc.predict(X_train)\n",
    "print(confusion_matrix(y_train, y_pred_train))\n",
    "print(classification_report(y_train, y_pred_train))"
   ]
  },
  {
   "cell_type": "code",
   "execution_count": 35,
   "metadata": {},
   "outputs": [
    {
     "name": "stdout",
     "output_type": "stream",
     "text": [
      "Number of features used as predictors: 403 \n",
      "\n",
      "Top 10 most relevant\n"
     ]
    },
    {
     "data": {
      "text/html": [
       "<div>\n",
       "<style scoped>\n",
       "    .dataframe tbody tr th:only-of-type {\n",
       "        vertical-align: middle;\n",
       "    }\n",
       "\n",
       "    .dataframe tbody tr th {\n",
       "        vertical-align: top;\n",
       "    }\n",
       "\n",
       "    .dataframe thead th {\n",
       "        text-align: right;\n",
       "    }\n",
       "</style>\n",
       "<table border=\"1\" class=\"dataframe\">\n",
       "  <thead>\n",
       "    <tr style=\"text-align: right;\">\n",
       "      <th></th>\n",
       "      <th>Feature</th>\n",
       "      <th>Importance</th>\n",
       "    </tr>\n",
       "  </thead>\n",
       "  <tbody>\n",
       "    <tr>\n",
       "      <th>0</th>\n",
       "      <td>D19_SOZIALES</td>\n",
       "      <td>0.345564</td>\n",
       "    </tr>\n",
       "    <tr>\n",
       "      <th>1</th>\n",
       "      <td>D19_KONSUMTYP</td>\n",
       "      <td>0.122586</td>\n",
       "    </tr>\n",
       "    <tr>\n",
       "      <th>2</th>\n",
       "      <td>ANZ_KINDER</td>\n",
       "      <td>0.076371</td>\n",
       "    </tr>\n",
       "    <tr>\n",
       "      <th>3</th>\n",
       "      <td>D19_KONSUMTYP_MAX</td>\n",
       "      <td>0.057181</td>\n",
       "    </tr>\n",
       "    <tr>\n",
       "      <th>4</th>\n",
       "      <td>CAMEO_DEU_2015_5F</td>\n",
       "      <td>0.019572</td>\n",
       "    </tr>\n",
       "    <tr>\n",
       "      <th>5</th>\n",
       "      <td>EINGEZOGENAM_HH_JAHR</td>\n",
       "      <td>0.016908</td>\n",
       "    </tr>\n",
       "    <tr>\n",
       "      <th>6</th>\n",
       "      <td>CAMEO_DEU_2015_1A</td>\n",
       "      <td>0.014102</td>\n",
       "    </tr>\n",
       "    <tr>\n",
       "      <th>7</th>\n",
       "      <td>D19_HANDWERK</td>\n",
       "      <td>0.012226</td>\n",
       "    </tr>\n",
       "    <tr>\n",
       "      <th>8</th>\n",
       "      <td>MIN_GEBAEUDEJAHR</td>\n",
       "      <td>0.011053</td>\n",
       "    </tr>\n",
       "    <tr>\n",
       "      <th>9</th>\n",
       "      <td>KBA05_SEG2</td>\n",
       "      <td>0.010980</td>\n",
       "    </tr>\n",
       "  </tbody>\n",
       "</table>\n",
       "</div>"
      ],
      "text/plain": [
       "                Feature  Importance\n",
       "0          D19_SOZIALES    0.345564\n",
       "1         D19_KONSUMTYP    0.122586\n",
       "2            ANZ_KINDER    0.076371\n",
       "3     D19_KONSUMTYP_MAX    0.057181\n",
       "4     CAMEO_DEU_2015_5F    0.019572\n",
       "5  EINGEZOGENAM_HH_JAHR    0.016908\n",
       "6     CAMEO_DEU_2015_1A    0.014102\n",
       "7          D19_HANDWERK    0.012226\n",
       "8      MIN_GEBAEUDEJAHR    0.011053\n",
       "9            KBA05_SEG2    0.010980"
      ]
     },
     "execution_count": 35,
     "metadata": {},
     "output_type": "execute_result"
    }
   ],
   "source": [
    "# Selecting top 10 features by importance\n",
    "sgbc_feat_imp = pd.DataFrame({'Feature':X_train.columns,'Importance': sgbc.feature_importances_})\n",
    "sgbc_feat_imp = sgbc_feat_imp.sort_values(by='Importance', ascending=False).reset_index(drop=True)\n",
    "print('Number of features used as predictors:', sgbc_feat_imp.shape[0], '\\n')\n",
    "\n",
    "feat_imp_top10 = sgbc_feat_imp.head(10)\n",
    "print('Top 10 most relevant')\n",
    "feat_imp_top10"
   ]
  },
  {
   "cell_type": "code",
   "execution_count": 36,
   "metadata": {},
   "outputs": [
    {
     "data": {
      "image/png": "[encoded data removed]",
      "text/plain": [
       "<Figure size 1152x576 with 4 Axes>"
      ]
     },
     "metadata": {
      "needs_background": "light"
     },
     "output_type": "display_data"
    }
   ],
   "source": [
    "# Distribution of important features by RESPONSE\n",
    "\n",
    "plt.rcParams.update({'ytick.labelsize': 12, 'xtick.labelsize': 12})\n",
    "\n",
    "r, c = 2, 2 # rows, cols\n",
    "ax_list = [[i,j] for i in range(0, r) for j in range(0, c)] # all rows and cols combinations\n",
    "\n",
    "i = 0 # plot counter\n",
    "\n",
    "fig, ax = plt.subplots(r, c, figsize=(16, 4*r))\n",
    "\n",
    "fig.subplots_adjust(hspace=0.4)\n",
    "\n",
    "for var in feat_imp_top10['Feature'][:4]:\n",
    "    \n",
    "    x = pd.crosstab(X_train[var], y_train, normalize='columns')\n",
    "    x.columns.name = 'Response'\n",
    "\n",
    "    ri=ax_list[i][0] # número da linha\n",
    "    ci=ax_list[i][1] # número da coluna\n",
    "    x.plot(kind='bar', ax=ax[ri, ci])\n",
    "    ax[ri, ci].set_title('{}'.format(var), fontsize=14)\n",
    "    ax[ri, ci].set_ylabel('Freq (%)')\n",
    "    ax[ri, ci].set_xlabel('')\n",
    "    #ax[ri, ci].set_xticks(x.index)\n",
    "        \n",
    "    i+=1\n",
    "\n",
    "#plt.tight_layout()\n",
    "plt.suptitle('Most important features', fontsize=18, y=0.96, weight='bold')\n",
    "plt.show();"
   ]
  }
 ],
 "metadata": {
  "kernelspec": {
   "display_name": "Python 3 (ipykernel)",
   "language": "python",
   "name": "python3"
  },
  "language_info": {
   "codemirror_mode": {
    "name": "ipython",
    "version": 3
   },
   "file_extension": ".py",
   "mimetype": "text/x-python",
   "name": "python",
   "nbconvert_exporter": "python",
   "pygments_lexer": "ipython3",
   "version": "3.7.11"
  }
 },
 "nbformat": 4,
 "nbformat_minor": 2
}
