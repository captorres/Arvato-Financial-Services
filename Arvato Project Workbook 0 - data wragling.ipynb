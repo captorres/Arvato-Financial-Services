{
 "cells": [
  {
   "cell_type": "markdown",
   "metadata": {},
   "source": [
    "# Capstone Project - Report for Arvato Financial Services\n",
    "## Part 0: Data wrangling\n",
    "\n"
   ]
  },
  {
   "cell_type": "code",
   "execution_count": 101,
   "metadata": {},
   "outputs": [],
   "source": [
    "# Importing libraries\n",
    "import numpy as np\n",
    "import pandas as pd\n",
    "import matplotlib.pyplot as plt\n",
    "import seaborn as sns\n",
    "%matplotlib inline"
   ]
  },
  {
   "cell_type": "markdown",
   "metadata": {},
   "source": [
    "### Defining functions"
   ]
  },
  {
   "cell_type": "code",
   "execution_count": 102,
   "metadata": {},
   "outputs": [],
   "source": [
    "def df_overview(df, name):\n",
    "    \n",
    "    \"\"\"\n",
    "    The df_overview function prints relevant information about a data frame's basic properties, such as:\n",
    "    - Name, number of rows, number of missing values and number of columns\n",
    "    - List of columns by data type\n",
    "    - Number of missing values by column\n",
    "\n",
    "\n",
    "    Args\n",
    "    df: data frame\n",
    "\n",
    "    Return\n",
    "    There is nos return for this function, it only prints information\n",
    "\n",
    "    \"\"\"\n",
    "    \n",
    "    print('Data:', name)\n",
    "    print('Number of rows:', df.shape[0])\n",
    "    print('Rows with missing values:', df.isna().any(axis=1).sum())\n",
    "    print('Number of columns:', df.shape[1])\n",
    "\n",
    "    for t, n in df.dtypes.value_counts().items():\n",
    "        col_types = df.select_dtypes(include=t).columns.tolist()\n",
    "        \n",
    "        if len(col_types)<=30: print(f'Columns of type {t}:', col_types) # few features: print features names\n",
    "        else: print(f'Columns of type {t}:', len(col_types)) # many features: print number of features\n",
    "    \n",
    "    col_na = [item for item in df.isna().sum().items() if item[1]>0]\n",
    "    \n",
    "    if len(col_na)<= 20: print('Missing values by column:\\n', col_na) # few columns with NA: print numer of missing by column\n",
    "    else: print('Number of columns with missing values:', len(col_na)) # many columns with NA: print number columns with missing"
   ]
  },
  {
   "cell_type": "code",
   "execution_count": 103,
   "metadata": {},
   "outputs": [],
   "source": [
    "# Initial exclusions due to data inconsistencies\n",
    "\n",
    "def df_cleaner(df, name, pk=None):\n",
    "   \n",
    "    \"\"\"\n",
    "    This function performs initial data treatments such as exclusion of duplicates and of rows or columns with all values \n",
    "    missing.\n",
    "\n",
    "    Args\n",
    "    df: data frame\n",
    "    name: a name to identify the data frame in the report (printed information)\n",
    "    pk: column that represent a primary key, if applicable\n",
    "\n",
    "    Return\n",
    "    There is nos return for this function, it only prints information of the exclusions applied and the final shape of the\n",
    "    data frame\n",
    "\n",
    "    \"\"\"\n",
    "\n",
    "    print('Data:', name)\n",
    "\n",
    "    # Excluding duplicated rows\n",
    "    if pk == None:\n",
    "        ndup = df.duplicated().sum()\n",
    "        df = df.drop_duplicates()\n",
    "        print('Number of duplicated rows excluded:', ndup)\n",
    "    else:\n",
    "        ndup = df.duplicated(subset=[pk], keep=False).sum()\n",
    "        df.drop_duplicates(subset=[pk] , inplace=True)\n",
    "        print('Number of duplicated rows excluded:', ndup)\n",
    "        \n",
    "    # Columns with all values missing\n",
    "    cols_to_drop = df.columns.to_series()[df.isna().sum() == df.shape[0]] \n",
    "    df.drop(cols_to_drop, axis=1, inplace=True)\n",
    "    print('Colmuns dropped (100% missing):', cols_to_drop)\n",
    "\n",
    "    # Rows with all values missing\n",
    "    rows_to_drop = list(df.index[df.isna().sum(axis=1) == df.shape[1]])\n",
    "    if rows_to_drop!=[]: df = df[not(rows_to_drop)]\n",
    "    print('Rows dropped (100% missing):', len(rows_to_drop))\n",
    "    \n",
    "    print('Final shape:', df.shape)"
   ]
  },
  {
   "cell_type": "code",
   "execution_count": 104,
   "metadata": {
    "scrolled": false
   },
   "outputs": [],
   "source": [
    "# Percentage of missing by column\n",
    "\n",
    "def perc_miss(df, name, most=20):\n",
    "        \n",
    "    \"\"\"\n",
    "    This function lists the percentage of the columns and rows with that have at least one missing information. Furthermore,\n",
    "    lists the which columns and rows has the highest percentages of missing data.\n",
    "\n",
    "    Args\n",
    "    df: data frame\n",
    "    name: a name to identify the data frame in the report (printed information)\n",
    "    most: number of columns and rows to be printed with the highest missing values percentage (top most)\n",
    "\n",
    "    Return\n",
    "    There is nos return for this function, it only prints information of missing data by rows and columns\n",
    "\n",
    "    \"\"\"\n",
    "\n",
    "    print(f'---------- Data: {name} ---------- \\n')\n",
    "    \n",
    "    # Columns with missing \n",
    "    missing = df.isnull().sum()\n",
    "    missing = missing[missing > 0]\n",
    "        \n",
    "    print(\"Columns with at least one missing: {} ({}% of all columns) \".format(len(missing), round(len(missing)/df.shape[1]*100,1)),'\\n')\n",
    "    print(f'{most} columns with highest percentage of missing rows')\n",
    "    print(missing.div(df.shape[0]).sort_values(ascending=False)[:most], '\\n')\n",
    "    \n",
    "    # Rows with most missing\n",
    "    missing = df.isna().sum(axis=1)\n",
    "    missing = missing[missing>0]\n",
    "\n",
    "    print(\"Rows with at least one missing: {} ({}% of all rows) \".format(len(missing), round(len(missing)/df.shape[0]*100,1)),'\\n')\n",
    "    print(f'{most} rows with highest percentage of missing features')\n",
    "    print(missing.div(df.shape[1]).sort_values(ascending=False)[:most], '\\n')"
   ]
  },
  {
   "cell_type": "markdown",
   "metadata": {},
   "source": [
    "### Azdias data"
   ]
  },
  {
   "cell_type": "code",
   "execution_count": 181,
   "metadata": {},
   "outputs": [],
   "source": [
    "# Loading data\n",
    "azdias_sample = pd.read_csv('azdias_sample.csv')\n",
    "azdias_sample.name = 'Germany sample'"
   ]
  },
  {
   "cell_type": "code",
   "execution_count": 182,
   "metadata": {},
   "outputs": [
    {
     "name": "stdout",
     "output_type": "stream",
     "text": [
      "Data: Germany sample\n",
      "Number of rows: 178244\n",
      "Rows with missing values: 178187\n",
      "Number of columns: 366\n",
      "Columns of type float64: 269\n",
      "Columns of type int64: 93\n",
      "Columns of type object: ['CAMEO_DEU_2015', 'D19_LETZTER_KAUF_BRANCHE', 'EINGEFUEGT_AM', 'OST_WEST_KZ']\n",
      "Number of columns with missing values: 273\n"
     ]
    }
   ],
   "source": [
    "# Data frame overview\n",
    "df_overview(azdias_sample, azdias_sample.name)"
   ]
  },
  {
   "cell_type": "code",
   "execution_count": 183,
   "metadata": {},
   "outputs": [
    {
     "name": "stdout",
     "output_type": "stream",
     "text": [
      "Data: Germany sample\n",
      "Number of duplicated rows excluded: 0\n",
      "Colmuns dropped (100% missing): Series([], dtype: object)\n",
      "Rows dropped (100% missing): 0\n",
      "Final shape: (178244, 366)\n"
     ]
    }
   ],
   "source": [
    "# Applying initial treatments\n",
    "df_cleaner(azdias_sample, azdias_sample.name)"
   ]
  },
  {
   "cell_type": "code",
   "execution_count": 184,
   "metadata": {},
   "outputs": [
    {
     "name": "stdout",
     "output_type": "stream",
     "text": [
      "---------- Data: Germany sample ---------- \n",
      "\n",
      "Columns with at least one missing: 273 (74.6% of all columns)  \n",
      "\n",
      "20 columns with highest percentage of missing rows\n",
      "ALTER_KIND4                    0.998693\n",
      "ALTER_KIND3                    0.993307\n",
      "ALTER_KIND2                    0.966871\n",
      "ALTER_KIND1                    0.909680\n",
      "EXTSEL992                      0.733859\n",
      "KK_KUNDENTYP                   0.656179\n",
      "ALTERSKATEGORIE_FEIN           0.296924\n",
      "D19_SOZIALES                   0.290725\n",
      "D19_VERSI_ONLINE_QUOTE_12      0.290725\n",
      "D19_VERSAND_ONLINE_QUOTE_12    0.290725\n",
      "D19_TELKO_ONLINE_QUOTE_12      0.290725\n",
      "D19_BANKEN_ONLINE_QUOTE_12     0.290725\n",
      "D19_LOTTO                      0.290725\n",
      "D19_LETZTER_KAUF_BRANCHE       0.290725\n",
      "D19_KONSUMTYP                  0.290725\n",
      "D19_GESAMT_ONLINE_QUOTE_12     0.290725\n",
      "KBA05_MAXVORB                  0.150776\n",
      "KBA05_MAXSEG                   0.150776\n",
      "KBA05_KW2                      0.150776\n",
      "KBA05_MAXHERST                 0.150776\n",
      "dtype: float64 \n",
      "\n",
      "Rows with at least one missing: 178187 (100.0% of all rows)  \n",
      "\n",
      "20 rows with highest percentage of missing features\n",
      "80640     0.699454\n",
      "136725    0.691257\n",
      "118240    0.691257\n",
      "95960     0.691257\n",
      "151332    0.691257\n",
      "95965     0.691257\n",
      "54075     0.691257\n",
      "8340      0.691257\n",
      "54092     0.691257\n",
      "168974    0.691257\n",
      "118256    0.691257\n",
      "54116     0.691257\n",
      "8351      0.691257\n",
      "74147     0.691257\n",
      "54122     0.691257\n",
      "118232    0.691257\n",
      "118226    0.691257\n",
      "151375    0.691257\n",
      "24228     0.691257\n",
      "54145     0.691257\n",
      "dtype: float64 \n",
      "\n"
     ]
    }
   ],
   "source": [
    "# Evaluating missing percentages - top 20\n",
    "perc_miss(azdias_sample, azdias_sample.name)"
   ]
  },
  {
   "cell_type": "code",
   "execution_count": 185,
   "metadata": {},
   "outputs": [
    {
     "name": "stdout",
     "output_type": "stream",
     "text": [
      "ALTER_KIND1                    17\n",
      "ALTER_KIND2                    17\n",
      "ALTER_KIND3                    13\n",
      "ALTER_KIND4                    12\n",
      "ALTERSKATEGORIE_FEIN           25\n",
      "D19_BANKEN_ONLINE_QUOTE_12     10\n",
      "D19_GESAMT_ONLINE_QUOTE_12     11\n",
      "D19_KONSUMTYP                   7\n",
      "D19_LETZTER_KAUF_BRANCHE       35\n",
      "D19_LOTTO                       8\n",
      "D19_SOZIALES                    6\n",
      "D19_TELKO_ONLINE_QUOTE_12       4\n",
      "D19_VERSAND_ONLINE_QUOTE_12    11\n",
      "D19_VERSI_ONLINE_QUOTE_12       6\n",
      "EXTSEL992                      56\n",
      "KK_KUNDENTYP                    6\n",
      "dtype: int64\n"
     ]
    }
   ],
   "source": [
    "# Excluding columns with more than 16% of missing values\n",
    "missing = azdias_sample.isnull().sum()\n",
    "cols_to_drop = missing[missing > int(0.16*azdias_sample.shape[0])].index\n",
    "print(azdias_sample[cols_to_drop].nunique())\n",
    "azdias_sample = azdias_sample.drop(columns=cols_to_drop)"
   ]
  },
  {
   "cell_type": "code",
   "execution_count": 186,
   "metadata": {},
   "outputs": [
    {
     "data": {
      "text/plain": [
       "LNR                           178244\n",
       "KBA13_ANZAHL_PKW                1258\n",
       "ANZ_HAUSHALTE_AKTIV              268\n",
       "ANZ_STATISTISCHE_HAUSHALTE       240\n",
       "GEBURTSJAHR                      116\n",
       "VERDICHTUNGSRAUM                  46\n",
       "LP_LEBENSPHASE_FEIN               41\n",
       "EINGEZOGENAM_HH_JAHR              34\n",
       "MIN_GEBAEUDEJAHR                  32\n",
       "ANZ_PERSONEN                      22\n",
       "dtype: int64"
      ]
     },
     "execution_count": 186,
     "metadata": {},
     "output_type": "execute_result"
    }
   ],
   "source": [
    "# Evaluating numerical features\n",
    "numeric_cols = azdias_sample.select_dtypes(exclude=np.object).columns.tolist()\n",
    "azdias_sample[numeric_cols].describe()\n",
    "azdias_sample[numeric_cols].nunique().sort_values(ascending=False).head(10)"
   ]
  },
  {
   "cell_type": "code",
   "execution_count": 187,
   "metadata": {},
   "outputs": [
    {
     "data": {
      "text/plain": [
       "array([ 727324,  822980,  784366,  674649,  766107,  581777,  852487,\n",
       "        988599, 1001076,  232337,  382585,  736912,  884392,  734481,\n",
       "        561877,  434724,  731166,  822867,  879110,  273764], dtype=int64)"
      ]
     },
     "execution_count": 187,
     "metadata": {},
     "output_type": "execute_result"
    }
   ],
   "source": [
    "# Understanding LNR values\n",
    "np.array(azdias_sample['LNR'].head(20))"
   ]
  },
  {
   "cell_type": "code",
   "execution_count": 188,
   "metadata": {},
   "outputs": [],
   "source": [
    "# Excluding LNR because it seems to be some primary key (one value for each observation)\n",
    "azdias_sample = azdias_sample.drop(columns=['LNR'])"
   ]
  },
  {
   "cell_type": "code",
   "execution_count": 189,
   "metadata": {},
   "outputs": [],
   "source": [
    "# List of columns that require further evaluation\n",
    "cols_to_exam = ['KBA13_ANZAHL_PKW', 'ANZ_HAUSHALTE_AKTIV', 'ANZ_STATISTISCHE_HAUSHALTE','GEBURTSJAHR','VERDICHTUNGSRAUM',\n",
    "                'LP_LEBENSPHASE_FEIN','MIN_GEBAEUDEJAHR','ANZ_PERSONEN']"
   ]
  },
  {
   "cell_type": "code",
   "execution_count": 190,
   "metadata": {},
   "outputs": [
    {
     "data": {
      "image/png": "[encoded data removed]",
      "text/plain": [
       "<Figure size 1152x691.2 with 9 Axes>"
      ]
     },
     "metadata": {
      "needs_background": "light"
     },
     "output_type": "display_data"
    }
   ],
   "source": [
    "azdias_sample[cols_to_exam].hist(figsize=(16,len(cols_to_exam)*1.2));"
   ]
  },
  {
   "cell_type": "code",
   "execution_count": 191,
   "metadata": {},
   "outputs": [
    {
     "data": {
      "text/html": [
       "<div>\n",
       "<style scoped>\n",
       "    .dataframe tbody tr th:only-of-type {\n",
       "        vertical-align: middle;\n",
       "    }\n",
       "\n",
       "    .dataframe tbody tr th {\n",
       "        vertical-align: top;\n",
       "    }\n",
       "\n",
       "    .dataframe thead th {\n",
       "        text-align: right;\n",
       "    }\n",
       "</style>\n",
       "<table border=\"1\" class=\"dataframe\">\n",
       "  <thead>\n",
       "    <tr style=\"text-align: right;\">\n",
       "      <th></th>\n",
       "      <th>KBA13_ANZAHL_PKW</th>\n",
       "      <th>ANZ_HAUSHALTE_AKTIV</th>\n",
       "      <th>ANZ_STATISTISCHE_HAUSHALTE</th>\n",
       "      <th>GEBURTSJAHR</th>\n",
       "      <th>VERDICHTUNGSRAUM</th>\n",
       "      <th>LP_LEBENSPHASE_FEIN</th>\n",
       "      <th>MIN_GEBAEUDEJAHR</th>\n",
       "      <th>ANZ_PERSONEN</th>\n",
       "    </tr>\n",
       "  </thead>\n",
       "  <tbody>\n",
       "    <tr>\n",
       "      <th>count</th>\n",
       "      <td>156930.000000</td>\n",
       "      <td>159443.000000</td>\n",
       "      <td>159443.000000</td>\n",
       "      <td>178244.000000</td>\n",
       "      <td>158601.000000</td>\n",
       "      <td>177304.000000</td>\n",
       "      <td>159443.000000</td>\n",
       "      <td>163441.000000</td>\n",
       "    </tr>\n",
       "    <tr>\n",
       "      <th>mean</th>\n",
       "      <td>620.222284</td>\n",
       "      <td>8.281003</td>\n",
       "      <td>7.594871</td>\n",
       "      <td>1097.955550</td>\n",
       "      <td>4.565110</td>\n",
       "      <td>14.632016</td>\n",
       "      <td>1993.277272</td>\n",
       "      <td>1.730465</td>\n",
       "    </tr>\n",
       "    <tr>\n",
       "      <th>std</th>\n",
       "      <td>340.291222</td>\n",
       "      <td>15.639096</td>\n",
       "      <td>14.455010</td>\n",
       "      <td>976.984282</td>\n",
       "      <td>8.440954</td>\n",
       "      <td>12.622097</td>\n",
       "      <td>3.335349</td>\n",
       "      <td>1.162477</td>\n",
       "    </tr>\n",
       "    <tr>\n",
       "      <th>min</th>\n",
       "      <td>0.000000</td>\n",
       "      <td>0.000000</td>\n",
       "      <td>0.000000</td>\n",
       "      <td>0.000000</td>\n",
       "      <td>0.000000</td>\n",
       "      <td>0.000000</td>\n",
       "      <td>1985.000000</td>\n",
       "      <td>0.000000</td>\n",
       "    </tr>\n",
       "    <tr>\n",
       "      <th>25%</th>\n",
       "      <td>384.000000</td>\n",
       "      <td>1.000000</td>\n",
       "      <td>1.000000</td>\n",
       "      <td>0.000000</td>\n",
       "      <td>0.000000</td>\n",
       "      <td>4.000000</td>\n",
       "      <td>1992.000000</td>\n",
       "      <td>1.000000</td>\n",
       "    </tr>\n",
       "    <tr>\n",
       "      <th>50%</th>\n",
       "      <td>550.000000</td>\n",
       "      <td>4.000000</td>\n",
       "      <td>3.000000</td>\n",
       "      <td>1943.000000</td>\n",
       "      <td>1.000000</td>\n",
       "      <td>11.000000</td>\n",
       "      <td>1992.000000</td>\n",
       "      <td>1.000000</td>\n",
       "    </tr>\n",
       "    <tr>\n",
       "      <th>75%</th>\n",
       "      <td>779.000000</td>\n",
       "      <td>9.000000</td>\n",
       "      <td>9.000000</td>\n",
       "      <td>1970.000000</td>\n",
       "      <td>5.000000</td>\n",
       "      <td>27.000000</td>\n",
       "      <td>1993.000000</td>\n",
       "      <td>2.000000</td>\n",
       "    </tr>\n",
       "    <tr>\n",
       "      <th>max</th>\n",
       "      <td>2300.000000</td>\n",
       "      <td>595.000000</td>\n",
       "      <td>449.000000</td>\n",
       "      <td>2017.000000</td>\n",
       "      <td>45.000000</td>\n",
       "      <td>40.000000</td>\n",
       "      <td>2016.000000</td>\n",
       "      <td>38.000000</td>\n",
       "    </tr>\n",
       "  </tbody>\n",
       "</table>\n",
       "</div>"
      ],
      "text/plain": [
       "       KBA13_ANZAHL_PKW  ANZ_HAUSHALTE_AKTIV  ANZ_STATISTISCHE_HAUSHALTE  \\\n",
       "count     156930.000000        159443.000000               159443.000000   \n",
       "mean         620.222284             8.281003                    7.594871   \n",
       "std          340.291222            15.639096                   14.455010   \n",
       "min            0.000000             0.000000                    0.000000   \n",
       "25%          384.000000             1.000000                    1.000000   \n",
       "50%          550.000000             4.000000                    3.000000   \n",
       "75%          779.000000             9.000000                    9.000000   \n",
       "max         2300.000000           595.000000                  449.000000   \n",
       "\n",
       "         GEBURTSJAHR  VERDICHTUNGSRAUM  LP_LEBENSPHASE_FEIN  MIN_GEBAEUDEJAHR  \\\n",
       "count  178244.000000     158601.000000        177304.000000     159443.000000   \n",
       "mean     1097.955550          4.565110            14.632016       1993.277272   \n",
       "std       976.984282          8.440954            12.622097          3.335349   \n",
       "min         0.000000          0.000000             0.000000       1985.000000   \n",
       "25%         0.000000          0.000000             4.000000       1992.000000   \n",
       "50%      1943.000000          1.000000            11.000000       1992.000000   \n",
       "75%      1970.000000          5.000000            27.000000       1993.000000   \n",
       "max      2017.000000         45.000000            40.000000       2016.000000   \n",
       "\n",
       "        ANZ_PERSONEN  \n",
       "count  163441.000000  \n",
       "mean        1.730465  \n",
       "std         1.162477  \n",
       "min         0.000000  \n",
       "25%         1.000000  \n",
       "50%         1.000000  \n",
       "75%         2.000000  \n",
       "max        38.000000  "
      ]
     },
     "execution_count": 191,
     "metadata": {},
     "output_type": "execute_result"
    }
   ],
   "source": [
    "azdias_sample[cols_to_exam].describe()"
   ]
  },
  {
   "cell_type": "code",
   "execution_count": 192,
   "metadata": {},
   "outputs": [
    {
     "data": {
      "text/plain": [
       "KBA13_ANZAHL_PKW              0.119578\n",
       "ANZ_HAUSHALTE_AKTIV           0.105479\n",
       "ANZ_STATISTISCHE_HAUSHALTE    0.105479\n",
       "GEBURTSJAHR                   0.000000\n",
       "VERDICHTUNGSRAUM              0.110203\n",
       "LP_LEBENSPHASE_FEIN           0.005274\n",
       "MIN_GEBAEUDEJAHR              0.105479\n",
       "ANZ_PERSONEN                  0.083049\n",
       "dtype: float64"
      ]
     },
     "execution_count": 192,
     "metadata": {},
     "output_type": "execute_result"
    }
   ],
   "source": [
    "azdias_sample[cols_to_exam].isnull().sum()/ azdias_sample.shape[0]"
   ]
  },
  {
   "cell_type": "code",
   "execution_count": 193,
   "metadata": {},
   "outputs": [],
   "source": [
    "# Excluding GEBURTSJAHR because it has too many 0\n",
    "azdias_sample = azdias_sample.drop(columns=['GEBURTSJAHR'])"
   ]
  },
  {
   "cell_type": "code",
   "execution_count": 194,
   "metadata": {},
   "outputs": [
    {
     "data": {
      "text/plain": [
       "array([56.,  3.,  3., nan,  3., 32., 11., 22.,  2.,  3.,  1.,  2.,  5.,\n",
       "        3.,  2., 11.,  3., 77.,  3.,  2.])"
      ]
     },
     "execution_count": 194,
     "metadata": {},
     "output_type": "execute_result"
    }
   ],
   "source": [
    "# Understanding ANZ_STATISTISCHE_HAUSHALTE values\n",
    "np.array(azdias_sample['ANZ_STATISTISCHE_HAUSHALTE'].head(20))"
   ]
  },
  {
   "cell_type": "code",
   "execution_count": 195,
   "metadata": {},
   "outputs": [
    {
     "data": {
      "text/plain": [
       "array([ 1.,  1.,  0., nan,  0.,  0.,  1.,  6.,  3.,  0.,  8.,  3.,  1.,\n",
       "        0.,  0.,  8.,  7.,  4., 29.,  2.])"
      ]
     },
     "execution_count": 195,
     "metadata": {},
     "output_type": "execute_result"
    }
   ],
   "source": [
    "# Understanding VERDICHTUNGSRAUM values\n",
    "np.array(azdias_sample['VERDICHTUNGSRAUM'].head(20))"
   ]
  },
  {
   "cell_type": "code",
   "execution_count": 196,
   "metadata": {},
   "outputs": [
    {
     "data": {
      "text/plain": [
       "array([2006., 2016., 2001.,   nan, 1998., 1997., 1994., 2004., 2004.,\n",
       "       2009., 1999., 1994., 1994., 1999., 2011., 2001., 1999., 2002.,\n",
       "       2004., 2014.])"
      ]
     },
     "execution_count": 196,
     "metadata": {},
     "output_type": "execute_result"
    }
   ],
   "source": [
    "# Understanding EINGEZOGENAM_HH_JAHR values\n",
    "np.array(azdias_sample['EINGEZOGENAM_HH_JAHR'].head(20))"
   ]
  },
  {
   "cell_type": "code",
   "execution_count": 197,
   "metadata": {},
   "outputs": [],
   "source": [
    "# Removing excluded features from the numerical columns to be evaluated\n",
    "numeric_cols.remove('LNR')\n",
    "numeric_cols.remove('GEBURTSJAHR')"
   ]
  },
  {
   "cell_type": "code",
   "execution_count": 198,
   "metadata": {},
   "outputs": [
    {
     "name": "stdout",
     "output_type": "stream",
     "text": [
      "Nº of columns with 9: 63\n",
      "Nº of columns with -1: 4\n",
      "Columns with 9 and -1: []\n"
     ]
    }
   ],
   "source": [
    "# Evaluate which features have -1 and/or 9 as missing data category ()\"unknown\")\n",
    "has_9 = []\n",
    "has_1 = []\n",
    "\n",
    "for col in numeric_cols:\n",
    "    values = azdias_sample[col].unique()\n",
    "    if ((9.0 in values) or (9 in values)) and len(values)<9: has_9.append(col)\n",
    "    elif (-1.0 in values) or (-1 in values): has_1.append(col)\n",
    "\n",
    "print('Nº of columns with 9:', len(has_9))\n",
    "print('Nº of columns with -1:', len(has_1))\n",
    "print('Columns with 9 and -1:', [col for col in has_9 if col in has_1])"
   ]
  },
  {
   "cell_type": "code",
   "execution_count": 199,
   "metadata": {},
   "outputs": [
    {
     "data": {
      "text/plain": [
       "278"
      ]
     },
     "execution_count": 199,
     "metadata": {},
     "output_type": "execute_result"
    }
   ],
   "source": [
    "# Number of columns with no -1 nor 9 as missing data category\n",
    "numeric_others = [c for c in numeric_cols if c not in has_9 and c not in has_1]\n",
    "len(numeric_others)"
   ]
  },
  {
   "cell_type": "code",
   "execution_count": 200,
   "metadata": {},
   "outputs": [],
   "source": [
    "# Replacing missing values with 9 or -1 in numeric columns\n",
    "azdias_sample[has_9] = azdias_sample[has_9].fillna(9)\n",
    "azdias_sample[has_1] = azdias_sample[has_1].fillna(-1)\n",
    "\n",
    "# Replacing missing values by median were 9 and -1 don't apply\n",
    "azdias_sample[numeric_others] = azdias_sample[numeric_others].fillna(azdias_sample[numeric_others].median())"
   ]
  },
  {
   "cell_type": "code",
   "execution_count": 201,
   "metadata": {},
   "outputs": [
    {
     "data": {
      "text/plain": [
       "EINGEFUEGT_AM     3440\n",
       "CAMEO_DEU_2015      45\n",
       "OST_WEST_KZ          2\n",
       "dtype: int64"
      ]
     },
     "execution_count": 201,
     "metadata": {},
     "output_type": "execute_result"
    }
   ],
   "source": [
    "# Evaluating categorical features\n",
    "cat_cols = azdias_sample.select_dtypes(include=np.object).columns.tolist()\n",
    "azdias_sample[cat_cols].nunique().sort_values(ascending=False).head(10)"
   ]
  },
  {
   "cell_type": "code",
   "execution_count": 202,
   "metadata": {},
   "outputs": [
    {
     "data": {
      "text/plain": [
       "array(['1992-02-12 00:00:00', '2000-05-24 00:00:00', nan,\n",
       "       '1992-02-10 00:00:00', '1992-12-28 00:00:00',\n",
       "       '1996-10-31 00:00:00', '1995-08-15 00:00:00',\n",
       "       '1995-02-07 00:00:00', '1994-03-28 00:00:00',\n",
       "       '1994-02-16 00:00:00', '2011-02-02 00:00:00',\n",
       "       '1992-02-21 00:00:00', '1996-05-30 00:00:00',\n",
       "       '1993-11-03 00:00:00', '1996-01-05 00:00:00',\n",
       "       '2000-03-31 00:00:00', '1996-06-27 00:00:00',\n",
       "       '1993-01-22 00:00:00', '2013-09-19 00:00:00',\n",
       "       '1997-08-05 00:00:00'], dtype=object)"
      ]
     },
     "execution_count": 202,
     "metadata": {},
     "output_type": "execute_result"
    }
   ],
   "source": [
    "# Understanding EINGEFUEGT_AM values\n",
    "azdias_sample['EINGEFUEGT_AM'].unique()[:20]"
   ]
  },
  {
   "cell_type": "code",
   "execution_count": 203,
   "metadata": {},
   "outputs": [],
   "source": [
    "# Excluding EINGEFUEGT_AM column as it seems to represent some processing information\n",
    "azdias_sample = azdias_sample.drop(columns=['EINGEFUEGT_AM'])"
   ]
  },
  {
   "cell_type": "code",
   "execution_count": 204,
   "metadata": {},
   "outputs": [
    {
     "data": {
      "text/plain": [
       "array(['9E', '8A', '5B', nan, '3C', '6B', '1C', '8C', '2D', '4D', '8B',\n",
       "       '7A', '6E', '4C', '9B', '4A', '3D', '7B', '7E', '2C'], dtype=object)"
      ]
     },
     "execution_count": 204,
     "metadata": {},
     "output_type": "execute_result"
    }
   ],
   "source": [
    "# Understanding CAMEO_DEU_2015 values\n",
    "azdias_sample['CAMEO_DEU_2015'].unique()[:20]"
   ]
  },
  {
   "cell_type": "code",
   "execution_count": 205,
   "metadata": {},
   "outputs": [
    {
     "data": {
      "text/plain": [
       "(178244, 49)"
      ]
     },
     "execution_count": 205,
     "metadata": {},
     "output_type": "execute_result"
    }
   ],
   "source": [
    "#Categorical columns that needs to be transformed into dummies: ['CAMEO_DEU_2015','OST_WEST_KZ']\n",
    "dummies = pd.get_dummies(azdias_sample[['CAMEO_DEU_2015','OST_WEST_KZ']], dummy_na=True)\n",
    "dummies.head()\n",
    "dummies.shape"
   ]
  },
  {
   "cell_type": "code",
   "execution_count": 206,
   "metadata": {},
   "outputs": [
    {
     "data": {
      "text/plain": [
       "(178244, 394)"
      ]
     },
     "execution_count": 206,
     "metadata": {},
     "output_type": "execute_result"
    }
   ],
   "source": [
    "azdias_sample = pd.concat([azdias_sample.drop(columns=['CAMEO_DEU_2015','OST_WEST_KZ']), dummies], axis=1)\n",
    "azdias_sample.shape"
   ]
  },
  {
   "cell_type": "code",
   "execution_count": 207,
   "metadata": {},
   "outputs": [
    {
     "name": "stdout",
     "output_type": "stream",
     "text": [
      "Columns with missing values: 0\n"
     ]
    }
   ],
   "source": [
    "# Checking if there is any column with missing values\n",
    "print('Columns with missing values:', azdias_sample.isnull().any().sum())"
   ]
  },
  {
   "cell_type": "markdown",
   "metadata": {},
   "source": [
    "### Customer data"
   ]
  },
  {
   "cell_type": "code",
   "execution_count": 134,
   "metadata": {},
   "outputs": [],
   "source": [
    "# Loading data\n",
    "customers = pd.read_csv('customers.csv')\n",
    "customers.name = 'Customers demographics'"
   ]
  },
  {
   "cell_type": "code",
   "execution_count": 135,
   "metadata": {},
   "outputs": [
    {
     "name": "stdout",
     "output_type": "stream",
     "text": [
      "Data: Customers demographics\n",
      "Number of rows: 191652\n",
      "Rows with missing values: 191516\n",
      "Number of columns: 369\n",
      "Columns of type float64: 269\n",
      "Columns of type int64: 94\n",
      "Columns of type object: ['CAMEO_DEU_2015', 'D19_LETZTER_KAUF_BRANCHE', 'EINGEFUEGT_AM', 'OST_WEST_KZ', 'PRODUCT_GROUP', 'CUSTOMER_GROUP']\n",
      "Number of columns with missing values: 273\n"
     ]
    }
   ],
   "source": [
    "# Data frame overview\n",
    "df_overview(customers, customers.name)"
   ]
  },
  {
   "cell_type": "code",
   "execution_count": 136,
   "metadata": {},
   "outputs": [
    {
     "name": "stdout",
     "output_type": "stream",
     "text": [
      "Data: Customers demographics\n",
      "Number of duplicated rows excluded: 0\n",
      "Colmuns dropped (100% missing): Series([], dtype: object)\n",
      "Rows dropped (100% missing): 0\n",
      "Final shape: (191652, 369)\n"
     ]
    }
   ],
   "source": [
    "# Applying initial treatments\n",
    "df_cleaner(customers, customers.name)"
   ]
  },
  {
   "cell_type": "code",
   "execution_count": 137,
   "metadata": {},
   "outputs": [
    {
     "name": "stdout",
     "output_type": "stream",
     "text": [
      "---------- Data: Customers demographics ---------- \n",
      "\n",
      "Columns with at least one missing: 273 (74.0% of all columns)  \n",
      "\n",
      "20 columns with highest percentage of missing rows\n",
      "ALTER_KIND4       0.998769\n",
      "ALTER_KIND3       0.993347\n",
      "ALTER_KIND2       0.973389\n",
      "ALTER_KIND1       0.938607\n",
      "KK_KUNDENTYP      0.584064\n",
      "EXTSEL992         0.444989\n",
      "KBA05_ANHANG      0.292092\n",
      "KBA05_MAXHERST    0.292092\n",
      "KBA05_ALTER2      0.292092\n",
      "KBA05_MOD8        0.292092\n",
      "KBA05_MOD4        0.292092\n",
      "KBA05_MOD2        0.292092\n",
      "KBA05_MOD1        0.292092\n",
      "KBA05_MAXVORB     0.292092\n",
      "KBA05_MAXSEG      0.292092\n",
      "KBA05_MAXAH       0.292092\n",
      "KBA05_MAXBJ       0.292092\n",
      "KBA05_MOTRAD      0.292092\n",
      "KBA05_KW3         0.292092\n",
      "KBA05_KW2         0.292092\n",
      "dtype: float64 \n",
      "\n",
      "Rows with at least one missing: 191516 (99.9% of all rows)  \n",
      "\n",
      "20 rows with highest percentage of missing features\n",
      "74012     0.701897\n",
      "84107     0.701897\n",
      "89983     0.701897\n",
      "176782    0.691057\n",
      "133476    0.685637\n",
      "133471    0.685637\n",
      "133472    0.685637\n",
      "133473    0.685637\n",
      "162761    0.685637\n",
      "45354     0.685637\n",
      "133475    0.685637\n",
      "35823     0.685637\n",
      "133470    0.685637\n",
      "133478    0.685637\n",
      "133479    0.685637\n",
      "162754    0.685637\n",
      "133480    0.685637\n",
      "133481    0.685637\n",
      "133482    0.685637\n",
      "133483    0.685637\n",
      "dtype: float64 \n",
      "\n"
     ]
    }
   ],
   "source": [
    "# Evaluating missing percentages - top 20\n",
    "perc_miss(customers, customers.name)"
   ]
  },
  {
   "cell_type": "code",
   "execution_count": 138,
   "metadata": {},
   "outputs": [],
   "source": [
    "# Limiting to the same features of azdias data frame\n",
    "customers = customers[list(azdias_sample.columns)]"
   ]
  },
  {
   "cell_type": "code",
   "execution_count": 139,
   "metadata": {},
   "outputs": [],
   "source": [
    "# Replacing missing values with 9 or -1 in numeric columns\n",
    "customers[has_9] = customers[has_9].fillna(9)\n",
    "customers[has_1] = customers[has_1].fillna(-1)\n",
    "\n",
    "# Replacing missing values by median were 9 and -1 don't apply\n",
    "customers[numeric_others] = customers[numeric_others].fillna(customers[numeric_others].median())"
   ]
  },
  {
   "cell_type": "code",
   "execution_count": 140,
   "metadata": {},
   "outputs": [
    {
     "data": {
      "text/plain": [
       "(191652, 49)"
      ]
     },
     "execution_count": 140,
     "metadata": {},
     "output_type": "execute_result"
    }
   ],
   "source": [
    "#Categorical columns that needs to be transformed into dummies: ['CAMEO_DEU_2015','OST_WEST_KZ']\n",
    "dummies = pd.get_dummies(customers[['CAMEO_DEU_2015','OST_WEST_KZ']], dummy_na=True)\n",
    "dummies.head()\n",
    "dummies.shape"
   ]
  },
  {
   "cell_type": "code",
   "execution_count": 141,
   "metadata": {},
   "outputs": [
    {
     "data": {
      "text/plain": [
       "(191652, 394)"
      ]
     },
     "execution_count": 141,
     "metadata": {},
     "output_type": "execute_result"
    }
   ],
   "source": [
    "customers = pd.concat([customers.drop(columns=['CAMEO_DEU_2015','OST_WEST_KZ']), dummies], axis=1)\n",
    "customers.shape"
   ]
  },
  {
   "cell_type": "code",
   "execution_count": 142,
   "metadata": {},
   "outputs": [
    {
     "name": "stdout",
     "output_type": "stream",
     "text": [
      "Columns with missing values: 17\n"
     ]
    }
   ],
   "source": [
    "# Checking if there is any column with missing values\n",
    "print('Columns with missing values:', X_customers.isnull().any().sum())"
   ]
  },
  {
   "cell_type": "code",
   "execution_count": 143,
   "metadata": {},
   "outputs": [
    {
     "name": "stdout",
     "output_type": "stream",
     "text": [
      "Features used for clustering azdias sample that are not on customers data frame:\n",
      " set()\n"
     ]
    }
   ],
   "source": [
    "# Checking if there are features in azdias that are not on customers (important for clustering application)\n",
    "azdias_columns = set(azdias.columns)\n",
    "customers_columns = set(customers.columns)\n",
    "print(\"Features used for clustering azdias sample that are not on customers data frame:\\n\", \n",
    "      azdias_columns.difference(customers_columns))"
   ]
  },
  {
   "cell_type": "markdown",
   "metadata": {},
   "source": [
    "### Mailout - train data"
   ]
  },
  {
   "cell_type": "code",
   "execution_count": 144,
   "metadata": {
    "scrolled": true
   },
   "outputs": [],
   "source": [
    "# loading data\n",
    "mailout_train = pd.read_csv('camp_train.csv')\n",
    "mailout_train.name = 'Mailout train'"
   ]
  },
  {
   "cell_type": "code",
   "execution_count": 145,
   "metadata": {},
   "outputs": [
    {
     "name": "stdout",
     "output_type": "stream",
     "text": [
      "Data: Mailout train\n",
      "Number of rows: 42962\n",
      "Rows with missing values: 42936\n",
      "Number of columns: 367\n",
      "Columns of type float64: 267\n",
      "Columns of type int64: 94\n",
      "Columns of type object: ['CAMEO_DEU_2015', 'CAMEO_DEUG_2015', 'CAMEO_INTL_2015', 'D19_LETZTER_KAUF_BRANCHE', 'EINGEFUEGT_AM', 'OST_WEST_KZ']\n",
      "Number of columns with missing values: 273\n"
     ]
    }
   ],
   "source": [
    "# Data frame overview\n",
    "df_overview(mailout_train, mailout_train.name)"
   ]
  },
  {
   "cell_type": "code",
   "execution_count": 146,
   "metadata": {},
   "outputs": [
    {
     "name": "stdout",
     "output_type": "stream",
     "text": [
      "Data: Mailout train\n",
      "Number of duplicated rows excluded: 0\n",
      "Colmuns dropped (100% missing): Series([], dtype: object)\n",
      "Rows dropped (100% missing): 0\n",
      "Final shape: (42962, 367)\n"
     ]
    }
   ],
   "source": [
    "# Applying initial treatments\n",
    "df_cleaner(mailout_train, mailout_train.name)"
   ]
  },
  {
   "cell_type": "code",
   "execution_count": 147,
   "metadata": {},
   "outputs": [
    {
     "name": "stdout",
     "output_type": "stream",
     "text": [
      "---------- Data: Mailout train ---------- \n",
      "\n",
      "Columns with at least one missing: 273 (74.4% of all columns)  \n",
      "\n",
      "20 columns with highest percentage of missing rows\n",
      "ALTER_KIND4       0.999046\n",
      "ALTER_KIND3       0.995950\n",
      "ALTER_KIND2       0.982403\n",
      "ALTER_KIND1       0.953727\n",
      "KK_KUNDENTYP      0.589265\n",
      "EXTSEL992         0.371212\n",
      "W_KEIT_KIND_HH    0.225269\n",
      "HH_DELTA_FLAG     0.225269\n",
      "KBA05_ANHANG      0.201294\n",
      "KBA05_ALTER2      0.201294\n",
      "KBA05_MOD8        0.201294\n",
      "KBA05_MOD4        0.201294\n",
      "KBA05_MOD2        0.201294\n",
      "KBA05_MOD1        0.201294\n",
      "KBA05_MAXVORB     0.201294\n",
      "KBA05_MAXSEG      0.201294\n",
      "KBA05_KW3         0.201294\n",
      "KBA05_MAXHERST    0.201294\n",
      "KBA05_MAXBJ       0.201294\n",
      "KBA05_MAXAH       0.201294\n",
      "dtype: float64 \n",
      "\n",
      "Rows with at least one missing: 42936 (99.9% of all rows)  \n",
      "\n",
      "20 rows with highest percentage of missing features\n",
      "20019    0.689373\n",
      "6641     0.689373\n",
      "35347    0.689373\n",
      "35350    0.689373\n",
      "35351    0.689373\n",
      "6670     0.689373\n",
      "35353    0.689373\n",
      "6669     0.689373\n",
      "24470    0.689373\n",
      "16036    0.689373\n",
      "24465    0.689373\n",
      "24463    0.689373\n",
      "16045    0.689373\n",
      "6644     0.689373\n",
      "35387    0.689373\n",
      "6640     0.689373\n",
      "35341    0.689373\n",
      "6638     0.689373\n",
      "35399    0.689373\n",
      "6634     0.689373\n",
      "dtype: float64 \n",
      "\n"
     ]
    }
   ],
   "source": [
    "# Evaluating missing percentages - top 20\n",
    "perc_miss(mailout_train, mailout_train.name)"
   ]
  },
  {
   "cell_type": "code",
   "execution_count": 148,
   "metadata": {},
   "outputs": [],
   "source": [
    "# Forcing CAMEO_DEUG_2015 and CAMEO_INTL_2015 columns to int32\n",
    "for col in mailout_train.columns[18:20]:\n",
    "    mailout_train[col] = pd.to_numeric(mailout_train[col], errors='coerce')"
   ]
  },
  {
   "cell_type": "code",
   "execution_count": 149,
   "metadata": {},
   "outputs": [
    {
     "name": "stdout",
     "output_type": "stream",
     "text": [
      "0    34.0\n",
      "1    32.0\n",
      "2    14.0\n",
      "3    14.0\n",
      "4    41.0\n",
      "Name: CAMEO_INTL_2015, dtype: float64\n",
      "0    False\n",
      "1    False\n",
      "2    False\n",
      "3    False\n",
      "4    False\n",
      "Name: CAMEO_INTL_2015, dtype: bool\n"
     ]
    }
   ],
   "source": [
    "# Evaluating if the NA are correctly identified\n",
    "print(mailout_train['CAMEO_INTL_2015'][:5])\n",
    "print(mailout_train['CAMEO_INTL_2015'][:5].isna())"
   ]
  },
  {
   "cell_type": "code",
   "execution_count": 150,
   "metadata": {},
   "outputs": [],
   "source": [
    "# Excluding unnecessary columns\n",
    "mailout_train = mailout_train.drop(columns=['LNR', 'GEBURTSJAHR', 'EINGEFUEGT_AM', 'D19_LETZTER_KAUF_BRANCHE'])"
   ]
  },
  {
   "cell_type": "code",
   "execution_count": 151,
   "metadata": {},
   "outputs": [
    {
     "name": "stdout",
     "output_type": "stream",
     "text": [
      "ALTER_KIND1     17\n",
      "ALTER_KIND2     14\n",
      "ALTER_KIND3     12\n",
      "ALTER_KIND4     11\n",
      "EXTSEL992       56\n",
      "KK_KUNDENTYP     6\n",
      "dtype: int64\n"
     ]
    }
   ],
   "source": [
    "# Excluding columns with more than 30% of missing values\n",
    "missing = mailout_train.isnull().sum()\n",
    "cols_to_drop = missing[missing > int(0.3*mailout_train.shape[0])].index\n",
    "print(mailout_train[cols_to_drop].nunique())\n",
    "mailout_train = mailout_train.drop(columns=cols_to_drop)"
   ]
  },
  {
   "cell_type": "code",
   "execution_count": 152,
   "metadata": {},
   "outputs": [],
   "source": [
    "# Evaluating numerical features\n",
    "numeric_cols = mailout_train.select_dtypes(exclude=np.object).columns.tolist()"
   ]
  },
  {
   "cell_type": "code",
   "execution_count": 153,
   "metadata": {},
   "outputs": [
    {
     "name": "stdout",
     "output_type": "stream",
     "text": [
      "Nº of columns with 9: 64\n",
      "Nº of columns with -1: 4\n",
      "Columns with 9 and -1: []\n"
     ]
    }
   ],
   "source": [
    "# Evaluate which features have -1 and/or 9 as missing data category ()\"unknown\")\n",
    "has_9 = []\n",
    "has_1 = []\n",
    "\n",
    "for col in numeric_cols:\n",
    "    values = mailout_train[col].unique()\n",
    "    if ((9.0 in values) or (9 in values)) and len(values)<9: has_9.append(col)\n",
    "    if (-1.0 in values) or (-1 in values): has_1.append(col)\n",
    "\n",
    "print('Nº of columns with 9:', len(has_9))\n",
    "print('Nº of columns with -1:', len(has_1))\n",
    "print('Columns with 9 and -1:', [col for col in has_9 if col in has_1])"
   ]
  },
  {
   "cell_type": "code",
   "execution_count": 154,
   "metadata": {},
   "outputs": [
    {
     "data": {
      "text/plain": [
       "287"
      ]
     },
     "execution_count": 154,
     "metadata": {},
     "output_type": "execute_result"
    }
   ],
   "source": [
    "# Number of columns with no -1 nor 9 as missing data category\n",
    "numeric_others = [c for c in numeric_cols if c not in has_9 and c not in has_1]\n",
    "len(numeric_others)"
   ]
  },
  {
   "cell_type": "code",
   "execution_count": 155,
   "metadata": {},
   "outputs": [],
   "source": [
    "# Replacing missing values with 9 or -1 in numeric columns\n",
    "mailout_train[has_9] = mailout_train[has_9].fillna(9)\n",
    "mailout_train[has_1] = mailout_train[has_1].fillna(-1)\n",
    "\n",
    "# Replacing missing values by median were 9 and -1 don't apply\n",
    "mailout_train[numeric_others] = mailout_train[numeric_others].fillna(mailout_train[numeric_others].median())"
   ]
  },
  {
   "cell_type": "code",
   "execution_count": 156,
   "metadata": {},
   "outputs": [
    {
     "data": {
      "text/plain": [
       "(42962, 49)"
      ]
     },
     "execution_count": 156,
     "metadata": {},
     "output_type": "execute_result"
    }
   ],
   "source": [
    "#Categorical columns that needs to be transformed into dummies: ['CAMEO_DEU_2015','OST_WEST_KZ']\n",
    "dummies = pd.get_dummies(mailout_train[['CAMEO_DEU_2015','OST_WEST_KZ']], dummy_na=True)\n",
    "dummies.head()\n",
    "dummies.shape"
   ]
  },
  {
   "cell_type": "code",
   "execution_count": 157,
   "metadata": {},
   "outputs": [
    {
     "data": {
      "text/plain": [
       "(42962, 357)"
      ]
     },
     "execution_count": 157,
     "metadata": {},
     "output_type": "execute_result"
    }
   ],
   "source": [
    "mailout_train.shape"
   ]
  },
  {
   "cell_type": "code",
   "execution_count": 158,
   "metadata": {},
   "outputs": [
    {
     "data": {
      "text/plain": [
       "(42962, 404)"
      ]
     },
     "execution_count": 158,
     "metadata": {},
     "output_type": "execute_result"
    }
   ],
   "source": [
    "mailout_train = pd.concat([mailout_train.drop(columns=['CAMEO_DEU_2015','OST_WEST_KZ']), dummies], axis=1)\n",
    "mailout_train.shape"
   ]
  },
  {
   "cell_type": "code",
   "execution_count": 159,
   "metadata": {},
   "outputs": [
    {
     "name": "stdout",
     "output_type": "stream",
     "text": [
      "Columns with missing values: 0\n"
     ]
    }
   ],
   "source": [
    "# Checking if there is any column with missing values\n",
    "print('Columns with missing values:', mailout_train.isnull().any().sum())"
   ]
  },
  {
   "cell_type": "markdown",
   "metadata": {},
   "source": [
    "### Mailout - test data"
   ]
  },
  {
   "cell_type": "code",
   "execution_count": 160,
   "metadata": {
    "scrolled": true
   },
   "outputs": [],
   "source": [
    "# load in the data\n",
    "mailout_test = pd.read_csv('camp_test.csv')\n",
    "mailout_test.name = 'Mailout test'"
   ]
  },
  {
   "cell_type": "code",
   "execution_count": 161,
   "metadata": {},
   "outputs": [
    {
     "name": "stdout",
     "output_type": "stream",
     "text": [
      "Data: Mailout test\n",
      "Number of rows: 42833\n",
      "Rows with missing values: 42813\n",
      "Number of columns: 366\n",
      "Columns of type float64: 267\n",
      "Columns of type int64: 93\n",
      "Columns of type object: ['CAMEO_DEU_2015', 'CAMEO_DEUG_2015', 'CAMEO_INTL_2015', 'D19_LETZTER_KAUF_BRANCHE', 'EINGEFUEGT_AM', 'OST_WEST_KZ']\n",
      "Number of columns with missing values: 273\n"
     ]
    }
   ],
   "source": [
    "# Data frame overview\n",
    "df_overview(mailout_test, mailout_test.name)"
   ]
  },
  {
   "cell_type": "code",
   "execution_count": 162,
   "metadata": {},
   "outputs": [
    {
     "name": "stdout",
     "output_type": "stream",
     "text": [
      "Data: Mailout test\n",
      "Number of duplicated rows excluded: 0\n",
      "Colmuns dropped (100% missing): Series([], dtype: object)\n",
      "Rows dropped (100% missing): 0\n",
      "Final shape: (42833, 366)\n"
     ]
    }
   ],
   "source": [
    "# Applying initial treatments\n",
    "df_cleaner(mailout_test, mailout_test.name)"
   ]
  },
  {
   "cell_type": "code",
   "execution_count": 163,
   "metadata": {},
   "outputs": [
    {
     "name": "stdout",
     "output_type": "stream",
     "text": [
      "---------- Data: Mailout test ---------- \n",
      "\n",
      "Columns with at least one missing: 273 (74.6% of all columns)  \n",
      "\n",
      "20 columns with highest percentage of missing rows\n",
      "ALTER_KIND4       0.999089\n",
      "ALTER_KIND3       0.995307\n",
      "ALTER_KIND2       0.982210\n",
      "ALTER_KIND1       0.953004\n",
      "KK_KUNDENTYP      0.584479\n",
      "EXTSEL992         0.369085\n",
      "W_KEIT_KIND_HH    0.224570\n",
      "HH_DELTA_FLAG     0.224570\n",
      "KBA05_ANHANG      0.199309\n",
      "KBA05_ALTER2      0.199309\n",
      "KBA05_MOD8        0.199309\n",
      "KBA05_MOD4        0.199309\n",
      "KBA05_MOD2        0.199309\n",
      "KBA05_MOD1        0.199309\n",
      "KBA05_MAXVORB     0.199309\n",
      "KBA05_MAXSEG      0.199309\n",
      "KBA05_KW3         0.199309\n",
      "KBA05_MAXHERST    0.199309\n",
      "KBA05_MAXBJ       0.199309\n",
      "KBA05_MAXAH       0.199309\n",
      "dtype: float64 \n",
      "\n",
      "Rows with at least one missing: 42813 (100.0% of all rows)  \n",
      "\n",
      "20 rows with highest percentage of missing features\n",
      "29637    0.710383\n",
      "32194    0.691257\n",
      "34011    0.691257\n",
      "15224    0.691257\n",
      "9221     0.691257\n",
      "33979    0.691257\n",
      "33988    0.691257\n",
      "9224     0.691257\n",
      "2919     0.691257\n",
      "33998    0.691257\n",
      "23253    0.691257\n",
      "2916     0.691257\n",
      "34005    0.691257\n",
      "15211    0.691257\n",
      "23251    0.691257\n",
      "15209    0.691257\n",
      "9227     0.691257\n",
      "33970    0.691257\n",
      "34014    0.691257\n",
      "34015    0.691257\n",
      "dtype: float64 \n",
      "\n"
     ]
    }
   ],
   "source": [
    "# Evaluating missing percentages - top 20\n",
    "perc_miss(mailout_test, mailout_test.name)"
   ]
  },
  {
   "cell_type": "code",
   "execution_count": 164,
   "metadata": {},
   "outputs": [],
   "source": [
    "# Forcing CAMEO_DEUG_2015 and CAMEO_INTL_2015 columns to int32\n",
    "for col in mailout_test.columns[18:20]:\n",
    "    mailout_test[col] = pd.to_numeric(mailout_test[col], errors='coerce')"
   ]
  },
  {
   "cell_type": "code",
   "execution_count": 165,
   "metadata": {
    "scrolled": true
   },
   "outputs": [
    {
     "name": "stdout",
     "output_type": "stream",
     "text": [
      "0    13.0\n",
      "1    31.0\n",
      "2    41.0\n",
      "3    13.0\n",
      "4    31.0\n",
      "Name: CAMEO_INTL_2015, dtype: float64\n",
      "0    False\n",
      "1    False\n",
      "2    False\n",
      "3    False\n",
      "4    False\n",
      "Name: CAMEO_INTL_2015, dtype: bool\n"
     ]
    }
   ],
   "source": [
    "# Evaluating if the NA are correctly identified\n",
    "print(mailout_test['CAMEO_INTL_2015'][:5])\n",
    "print(mailout_test['CAMEO_INTL_2015'][:5].isna())"
   ]
  },
  {
   "cell_type": "code",
   "execution_count": 166,
   "metadata": {},
   "outputs": [],
   "source": [
    "mailout_test = mailout_test.drop(columns=['LNR', 'GEBURTSJAHR', 'EINGEFUEGT_AM', 'D19_LETZTER_KAUF_BRANCHE'])"
   ]
  },
  {
   "cell_type": "code",
   "execution_count": 167,
   "metadata": {},
   "outputs": [
    {
     "name": "stdout",
     "output_type": "stream",
     "text": [
      "ALTER_KIND1     17\n",
      "ALTER_KIND2     15\n",
      "ALTER_KIND3     13\n",
      "ALTER_KIND4     10\n",
      "EXTSEL992       56\n",
      "KK_KUNDENTYP     6\n",
      "dtype: int64\n"
     ]
    }
   ],
   "source": [
    "# Excluding columns with more than 30% of missing values\n",
    "missing = mailout_test.isnull().sum()\n",
    "cols_to_drop = missing[missing > int(0.3*mailout_test.shape[0])].index\n",
    "print(mailout_test[cols_to_drop].nunique())\n",
    "mailout_test = mailout_test.drop(columns=cols_to_drop)"
   ]
  },
  {
   "cell_type": "code",
   "execution_count": 168,
   "metadata": {},
   "outputs": [],
   "source": [
    "# Evaluating numerical features\n",
    "numeric_cols = mailout_test.select_dtypes(exclude=np.object).columns.tolist()"
   ]
  },
  {
   "cell_type": "code",
   "execution_count": 169,
   "metadata": {},
   "outputs": [
    {
     "name": "stdout",
     "output_type": "stream",
     "text": [
      "Nº of columns with 9: 64\n",
      "Nº of columns with -1: 4\n",
      "Columns with 9 and -1: []\n"
     ]
    }
   ],
   "source": [
    "# Evaluate which features have -1 and/or 9 as missing data category ()\"unknown\")\n",
    "has_9 = []\n",
    "has_1 = []\n",
    "\n",
    "for col in numeric_cols:\n",
    "    values = mailout_test[col].unique()\n",
    "    if ((9.0 in values) or (9 in values)) and len(values)<9: has_9.append(col)\n",
    "    if (-1.0 in values) or (-1 in values): has_1.append(col)\n",
    "\n",
    "print('Nº of columns with 9:', len(has_9))\n",
    "print('Nº of columns with -1:', len(has_1))\n",
    "print('Columns with 9 and -1:', [col for col in has_9 if col in has_1])"
   ]
  },
  {
   "cell_type": "code",
   "execution_count": 170,
   "metadata": {},
   "outputs": [
    {
     "data": {
      "text/plain": [
       "286"
      ]
     },
     "execution_count": 170,
     "metadata": {},
     "output_type": "execute_result"
    }
   ],
   "source": [
    "# Number of columns with no -1 nor 9 as missing data category\n",
    "numeric_others = [c for c in numeric_cols if c not in has_9 and c not in has_1]\n",
    "len(numeric_others)"
   ]
  },
  {
   "cell_type": "code",
   "execution_count": 171,
   "metadata": {},
   "outputs": [],
   "source": [
    "# Replacing missing values with 9 or -1 in numeric columns\n",
    "mailout_test[has_9] = mailout_test[has_9].fillna(9)\n",
    "mailout_test[has_1] = mailout_test[has_1].fillna(-1)\n",
    "\n",
    "# Replacing missing values by median were 9 and -1 don't apply\n",
    "mailout_test[numeric_others] = mailout_test[numeric_others].fillna(mailout_test[numeric_others].median())"
   ]
  },
  {
   "cell_type": "code",
   "execution_count": 172,
   "metadata": {},
   "outputs": [
    {
     "data": {
      "text/plain": [
       "(42833, 49)"
      ]
     },
     "execution_count": 172,
     "metadata": {},
     "output_type": "execute_result"
    }
   ],
   "source": [
    "#Categorical columns that needs to be treated: ['CAMEO_DEU_2015','OST_WEST_KZ']\n",
    "dummies = pd.get_dummies(mailout_test[['CAMEO_DEU_2015','OST_WEST_KZ']], dummy_na=True)\n",
    "dummies.head()\n",
    "dummies.shape"
   ]
  },
  {
   "cell_type": "code",
   "execution_count": 173,
   "metadata": {},
   "outputs": [
    {
     "data": {
      "text/plain": [
       "(42833, 356)"
      ]
     },
     "execution_count": 173,
     "metadata": {},
     "output_type": "execute_result"
    }
   ],
   "source": [
    "mailout_test.shape"
   ]
  },
  {
   "cell_type": "code",
   "execution_count": 174,
   "metadata": {},
   "outputs": [
    {
     "data": {
      "text/plain": [
       "(42833, 403)"
      ]
     },
     "execution_count": 174,
     "metadata": {},
     "output_type": "execute_result"
    }
   ],
   "source": [
    "mailout_test = pd.concat([mailout_test.drop(columns=['CAMEO_DEU_2015','OST_WEST_KZ']), dummies], axis=1)\n",
    "mailout_test.shape"
   ]
  },
  {
   "cell_type": "code",
   "execution_count": 175,
   "metadata": {},
   "outputs": [
    {
     "name": "stdout",
     "output_type": "stream",
     "text": [
      "False\n",
      "False\n"
     ]
    }
   ],
   "source": [
    "print('CAMEO_DEU_2015' in mailout_test.columns)\n",
    "print('OST_WEST_KZ' in mailout_test.columns)"
   ]
  },
  {
   "cell_type": "code",
   "execution_count": 176,
   "metadata": {},
   "outputs": [
    {
     "name": "stdout",
     "output_type": "stream",
     "text": [
      "Columns with missing values: 0\n"
     ]
    }
   ],
   "source": [
    "# Checking if there is any column with missing values\n",
    "print('Columns with missing values:', mailout_test.isnull().any().sum())"
   ]
  },
  {
   "cell_type": "code",
   "execution_count": 177,
   "metadata": {},
   "outputs": [
    {
     "name": "stdout",
     "output_type": "stream",
     "text": [
      "Features used for training that are not on testing data frame:\n",
      " {'RESPONSE'}\n"
     ]
    }
   ],
   "source": [
    "# Checking if there are features in train that are not on test (important for model prediction)\n",
    "train_columns = set(mailout_train.columns)\n",
    "test_columns = set(mailout_test.columns)\n",
    "print(\"Features used for training that are not on testing data frame:\\n\", \n",
    "      train_columns.difference(test_columns))"
   ]
  },
  {
   "cell_type": "markdown",
   "metadata": {},
   "source": [
    "### Saving wraggled data sets"
   ]
  },
  {
   "cell_type": "code",
   "execution_count": 208,
   "metadata": {},
   "outputs": [],
   "source": [
    "azdias_sample.to_csv('azdias_sample_clean.csv', index=False)\n",
    "customers.to_csv('customers_clean.csv', index=False)\n",
    "mailout_train.to_csv('mailout_train_clean.csv', index=False)\n",
    "mailout_test.to_csv('mailout_test_clean.csv', index=False)"
   ]
  }
 ],
 "metadata": {
  "kernelspec": {
   "display_name": "Python 3 (ipykernel)",
   "language": "python",
   "name": "python3"
  },
  "language_info": {
   "codemirror_mode": {
    "name": "ipython",
    "version": 3
   },
   "file_extension": ".py",
   "mimetype": "text/x-python",
   "name": "python",
   "nbconvert_exporter": "python",
   "pygments_lexer": "ipython3",
   "version": "3.7.11"
  }
 },
 "nbformat": 4,
 "nbformat_minor": 2
}
